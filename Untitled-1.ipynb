{
 "cells": [
  {
   "cell_type": "code",
   "execution_count": 45,
   "metadata": {},
   "outputs": [],
   "source": [
    "import csv\n",
    "import openpyxl, re "
   ]
  },
  {
   "cell_type": "code",
   "execution_count": 20,
   "metadata": {},
   "outputs": [],
   "source": [
    "wb = openpyxl.Workbook()\n",
    "ws = wb.active\n",
    "ws.title = \"data\"\n",
    "ws.append(['osa','es','genial'])\n",
    "wb.save('osa.xlsx')"
   ]
  },
  {
   "cell_type": "code",
   "execution_count": 23,
   "metadata": {},
   "outputs": [],
   "source": [
    "def create_excel(alias_name,list_values):\n",
    "    wb = openpyxl.Workbook()\n",
    "    ws = wb.active\n",
    "    ws.title = alias_name\n",
    "    ws.append(list_values)\n",
    "    wb.save('Prueba.xlsx')"
   ]
  },
  {
   "cell_type": "code",
   "execution_count": 125,
   "metadata": {},
   "outputs": [],
   "source": [
    "def Find_Alias(alias):\n",
    "    #funtions that retrieves aliases on list format\n",
    "    aliases = []\n",
    "    if alias == 'User_Alias':\n",
    "        pattern = re.compile(r'(?<=User_Alias).*$')\n",
    "    elif alias == 'Host_Alias':\n",
    "        pattern = re.compile(r'(?<=Host_Alias).*$')\n",
    "    else:\n",
    "        pattern = re.compile(r'(?<=Cmnd_Alias).*$')\n",
    "    \n",
    "    with open('test_sudo_file','r') as file:\n",
    "        content = file.readlines()\n",
    "    \n",
    "        for line in content:\n",
    "        \n",
    "            matches = pattern.finditer(line)\n",
    "            for m in matches:\n",
    "                #print(type(m.group()))\n",
    "                #print(m.group().split('='))\n",
    "                aliases.append(m.group().split('='))\n",
    "    return aliases"
   ]
  },
  {
   "cell_type": "code",
   "execution_count": 69,
   "metadata": {},
   "outputs": [
    {
     "data": {
      "text/plain": [
       "['db2_servers', 'server5', 'server6']"
      ]
     },
     "execution_count": 69,
     "metadata": {},
     "output_type": "execute_result"
    }
   ],
   "source": [
    "words_pattern = \"^\\\\b(?:\\\\w|-)+\\\\b$\"\n",
    "re.match(words_pattern, 'word') # Returns Match object\n",
    "re.match(words_pattern, 'pet-friendly') # Returns Match object\n",
    "re.match(words_pattern, 'not a word') # Returns None\n",
    "\n",
    "# Extract words from a string\n",
    "words_extract_pattern = \"\\\\b(?:\\\\w|-)+\\\\b\"\n",
    "re.findall(words_extract_pattern, 'db2_servers = server5, server6') # returns ['Hello', 'world']"
   ]
  },
  {
   "cell_type": "code",
   "execution_count": 137,
   "metadata": {},
   "outputs": [],
   "source": [
    "def exporter_to_excel(nombre_alias,lista_valores):\n",
    "    headers       = ['Alias','Defenition']\n",
    "    workbook_name = nombre_alias+'.xlsx'\n",
    "    wb = openpyxl.Workbook()\n",
    "    ws = wb.active\n",
    "    ws.title = nombre_alias\n",
    "    ws.append(headers)\n",
    "    for row in lista_valores:\n",
    "        print(row)\n",
    "        ws.append(row)\n",
    "    wb.save(filename=workbook_name)"
   ]
  },
  {
   "cell_type": "code",
   "execution_count": 80,
   "metadata": {},
   "outputs": [
    {
     "name": "stdout",
     "output_type": "stream",
     "text": [
      "[' oracle_cmds = /bin/share/oracle1, /bin/share/oracle2', ' mysql_cmds = /bin/share/mysql1, /bin/share/mysql2', ' db2_cmds = /bin/share/db21, /bin/share/db22']\n",
      " oracle_cmds = /bin/share/oracle1, /bin/share/oracle2\n",
      " mysql_cmds = /bin/share/mysql1, /bin/share/mysql2\n",
      " db2_cmds = /bin/share/db21, /bin/share/db22\n"
     ]
    }
   ],
   "source": [
    "archivo = Find_Alias(\"Cmnd_Alias\")\n",
    "print(archivo)\n",
    "for cmd in archivo:\n",
    "    print(cmd)\n",
    "#exporter_to_excel(\"Cmnd_Alias\",archivo)"
   ]
  },
  {
   "cell_type": "code",
   "execution_count": 64,
   "metadata": {},
   "outputs": [
    {
     "name": "stdout",
     "output_type": "stream",
     "text": [
      "['name1', 'address1', 'tel1', 'web1']\n",
      "<class 'list'>\n",
      "['name2', 'address2', 'tel2', 'web2']\n",
      "<class 'list'>\n"
     ]
    }
   ],
   "source": [
    "headers       = ['Company','Address','Tel','Web']\n",
    "workbook_name = 'sample.xlsx'\n",
    "wb = openpyxl.Workbook()\n",
    "page = wb.active\n",
    "page.title = 'companies'\n",
    "page.append(headers) # write the headers to the first line\n",
    "\n",
    "# Data to write:\n",
    "companies = [['name1','address1','tel1','web1'], ['name2','address2','tel2','web2']]\n",
    "\n",
    "for info in companies:\n",
    "    print(info)\n",
    "    print(type(info))\n",
    "    page.append(info)\n",
    "wb.save(filename = workbook_name)"
   ]
  },
  {
   "cell_type": "code",
   "execution_count": 62,
   "metadata": {},
   "outputs": [
    {
     "name": "stdout",
     "output_type": "stream",
     "text": [
      "[['name1', 'address1', 'tel1', 'web1'], ['name2', 'address2', 'tel2', 'web2']]\n"
     ]
    }
   ],
   "source": [
    "print(companies)"
   ]
  },
  {
   "cell_type": "code",
   "execution_count": 81,
   "metadata": {},
   "outputs": [],
   "source": [
    "cmd_alias = 'Cmnd_Alias db2_cmds = /bin/share/db21, /bin/share/db22'"
   ]
  },
  {
   "cell_type": "code",
   "execution_count": 82,
   "metadata": {},
   "outputs": [
    {
     "data": {
      "text/plain": [
       "20"
      ]
     },
     "execution_count": 82,
     "metadata": {},
     "output_type": "execute_result"
    }
   ],
   "source": [
    "cmd_alias.index('=')"
   ]
  },
  {
   "cell_type": "code",
   "execution_count": 90,
   "metadata": {},
   "outputs": [
    {
     "data": {
      "text/plain": [
       "str"
      ]
     },
     "execution_count": 90,
     "metadata": {},
     "output_type": "execute_result"
    }
   ],
   "source": [
    "cmd_alias[cmd_alias.index('=')+1:]"
   ]
  },
  {
   "cell_type": "code",
   "execution_count": 139,
   "metadata": {},
   "outputs": [
    {
     "name": "stdout",
     "output_type": "stream",
     "text": [
      "[' oracle_cmds ', ' /bin/share/oracle1, /bin/share/oracle2']\n",
      "[' mysql_cmds ', ' /bin/share/mysql1, /bin/share/mysql2']\n",
      "[' db2_cmds ', ' /bin/share/db21, /bin/share/db22']\n"
     ]
    }
   ],
   "source": [
    "archivo = Find_Alias(\"Cmnd_Alias\")\n",
    "#print(f\"los datos que se envian al excel {archivo}\")\n",
    "#for cmd in archivo:\n",
    "    #print(cmd)\n",
    "    #print(cmd.split('='))\n",
    "    #print(type(cmd.split('=')))\n",
    "exporter_to_excel(\"Cmnd_Alias\",archivo)"
   ]
  },
  {
   "cell_type": "code",
   "execution_count": null,
   "metadata": {},
   "outputs": [],
   "source": []
  }
 ],
 "metadata": {
  "kernelspec": {
   "display_name": "Python 3.10.6 64-bit",
   "language": "python",
   "name": "python3"
  },
  "language_info": {
   "codemirror_mode": {
    "name": "ipython",
    "version": 3
   },
   "file_extension": ".py",
   "mimetype": "text/x-python",
   "name": "python",
   "nbconvert_exporter": "python",
   "pygments_lexer": "ipython3",
   "version": "3.10.6"
  },
  "orig_nbformat": 4,
  "vscode": {
   "interpreter": {
    "hash": "b0fa6594d8f4cbf19f97940f81e996739fb7646882a419484c72d19e05852a7e"
   }
  }
 },
 "nbformat": 4,
 "nbformat_minor": 2
}
