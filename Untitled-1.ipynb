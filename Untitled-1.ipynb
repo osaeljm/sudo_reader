{
 "cells": [
  {
   "cell_type": "code",
   "execution_count": 19,
   "metadata": {},
   "outputs": [],
   "source": [
    "import csv\n",
    "import openpyxl, re "
   ]
  },
  {
   "cell_type": "code",
   "execution_count": 20,
   "metadata": {},
   "outputs": [],
   "source": [
    "wb = openpyxl.Workbook()\n",
    "ws = wb.active\n",
    "ws.title = \"data\"\n",
    "ws.append(['osa','es','genial'])\n",
    "wb.save('osa.xlsx')"
   ]
  },
  {
   "cell_type": "code",
   "execution_count": 23,
   "metadata": {},
   "outputs": [],
   "source": [
    "def create_excel(alias_name,list_values):\n",
    "    wb = openpyxl.Workbook()\n",
    "    ws = wb.active\n",
    "    ws.title = alias_name\n",
    "    ws.append(list_values)\n",
    "    wb.save('Prueba.xlsx')"
   ]
  },
  {
   "cell_type": "code",
   "execution_count": 21,
   "metadata": {},
   "outputs": [],
   "source": [
    "def Find_Alias(alias):\n",
    "    #funtions that retrieves aliases on list format\n",
    "    aliases = []\n",
    "    if alias == 'User_Alias':\n",
    "        pattern = re.compile(r'(?<=User_Alias).*$')\n",
    "    elif alias == 'Host_Alias':\n",
    "        pattern = re.compile(r'(?<=Host_Alias).*$')\n",
    "    else:\n",
    "        pattern = re.compile(r'(?<=Cmnd_Alias).*$')\n",
    "    \n",
    "    with open('test_sudo_file','r') as file:\n",
    "        content = file.readlines()\n",
    "    \n",
    "        for line in content:\n",
    "        \n",
    "            matches = pattern.finditer(line)\n",
    "            for m in matches:\n",
    "                #print(type(m.group()))\n",
    "                #print(m.group().split('='))\n",
    "                aliases.append(m.group().split('='))\n",
    "    return aliases"
   ]
  },
  {
   "cell_type": "code",
   "execution_count": 69,
   "metadata": {},
   "outputs": [
    {
     "data": {
      "text/plain": [
       "['db2_servers', 'server5', 'server6']"
      ]
     },
     "execution_count": 69,
     "metadata": {},
     "output_type": "execute_result"
    }
   ],
   "source": [
    "words_pattern = \"^\\\\b(?:\\\\w|-)+\\\\b$\"\n",
    "re.match(words_pattern, 'word') # Returns Match object\n",
    "re.match(words_pattern, 'pet-friendly') # Returns Match object\n",
    "re.match(words_pattern, 'not a word') # Returns None\n",
    "\n",
    "# Extract words from a string\n",
    "words_extract_pattern = \"\\\\b(?:\\\\w|-)+\\\\b\"\n",
    "re.findall(words_extract_pattern, 'db2_servers = server5, server6') # returns ['Hello', 'world']"
   ]
  },
  {
   "cell_type": "code",
   "execution_count": 155,
   "metadata": {},
   "outputs": [],
   "source": [
    "import getpass\n",
    "def exporter_to_excel(nombre_alias,lista_valores):\n",
    "    headers       = ['Alias','Defenition']\n",
    "    workbook_name = nombre_alias+'.xlsx'\n",
    "    wb = openpyxl.Workbook()\n",
    "    ws = wb.active\n",
    "    ws.title = nombre_alias\n",
    "    ws.append(headers)\n",
    "    for row in lista_valores:\n",
    "        print(row)\n",
    "        ws.append(row)\n",
    "    print(f\"Output exported to excel in User's home directory under the name {workbook_name}\")\n",
    "    wb.save('/Users/'+getpass.getuser()+'/Documents/'+ workbook_name)"
   ]
  },
  {
   "cell_type": "code",
   "execution_count": 80,
   "metadata": {},
   "outputs": [
    {
     "name": "stdout",
     "output_type": "stream",
     "text": [
      "[' oracle_cmds = /bin/share/oracle1, /bin/share/oracle2', ' mysql_cmds = /bin/share/mysql1, /bin/share/mysql2', ' db2_cmds = /bin/share/db21, /bin/share/db22']\n",
      " oracle_cmds = /bin/share/oracle1, /bin/share/oracle2\n",
      " mysql_cmds = /bin/share/mysql1, /bin/share/mysql2\n",
      " db2_cmds = /bin/share/db21, /bin/share/db22\n"
     ]
    }
   ],
   "source": [
    "archivo = Find_Alias(\"Cmnd_Alias\")\n",
    "print(archivo)\n",
    "for cmd in archivo:\n",
    "    print(cmd)\n",
    "#exporter_to_excel(\"Cmnd_Alias\",archivo)"
   ]
  },
  {
   "cell_type": "code",
   "execution_count": 64,
   "metadata": {},
   "outputs": [
    {
     "name": "stdout",
     "output_type": "stream",
     "text": [
      "['name1', 'address1', 'tel1', 'web1']\n",
      "<class 'list'>\n",
      "['name2', 'address2', 'tel2', 'web2']\n",
      "<class 'list'>\n"
     ]
    }
   ],
   "source": [
    "headers       = ['Company','Address','Tel','Web']\n",
    "workbook_name = 'sample.xlsx'\n",
    "wb = openpyxl.Workbook()\n",
    "page = wb.active\n",
    "page.title = 'companies'\n",
    "page.append(headers) # write the headers to the first line\n",
    "\n",
    "# Data to write:\n",
    "companies = [['name1','address1','tel1','web1'], ['name2','address2','tel2','web2']]\n",
    "\n",
    "for info in companies:\n",
    "    print(info)\n",
    "    print(type(info))\n",
    "    page.append(info)\n",
    "wb.save(filename = workbook_name)"
   ]
  },
  {
   "cell_type": "code",
   "execution_count": 62,
   "metadata": {},
   "outputs": [
    {
     "name": "stdout",
     "output_type": "stream",
     "text": [
      "[['name1', 'address1', 'tel1', 'web1'], ['name2', 'address2', 'tel2', 'web2']]\n"
     ]
    }
   ],
   "source": [
    "print(companies)"
   ]
  },
  {
   "cell_type": "code",
   "execution_count": 81,
   "metadata": {},
   "outputs": [],
   "source": [
    "cmd_alias = 'Cmnd_Alias db2_cmds = /bin/share/db21, /bin/share/db22'"
   ]
  },
  {
   "cell_type": "code",
   "execution_count": 82,
   "metadata": {},
   "outputs": [
    {
     "data": {
      "text/plain": [
       "20"
      ]
     },
     "execution_count": 82,
     "metadata": {},
     "output_type": "execute_result"
    }
   ],
   "source": [
    "cmd_alias.index('=')"
   ]
  },
  {
   "cell_type": "code",
   "execution_count": 90,
   "metadata": {},
   "outputs": [
    {
     "data": {
      "text/plain": [
       "str"
      ]
     },
     "execution_count": 90,
     "metadata": {},
     "output_type": "execute_result"
    }
   ],
   "source": [
    "cmd_alias[cmd_alias.index('=')+1:]"
   ]
  },
  {
   "cell_type": "code",
   "execution_count": 156,
   "metadata": {},
   "outputs": [
    {
     "data": {
      "text/html": [
       "<pre style=\"white-space:pre;overflow-x:auto;line-height:normal;font-family:Menlo,'DejaVu Sans Mono',consolas,'Courier New',monospace\"><span style=\"font-weight: bold\">[</span><span style=\"color: #008000; text-decoration-color: #008000\">' oracle_cmds '</span>, <span style=\"color: #008000; text-decoration-color: #008000\">' /bin/share/oracle1, /bin/share/oracle2'</span><span style=\"font-weight: bold\">]</span>\n",
       "</pre>\n"
      ],
      "text/plain": [
       "\u001b[1m[\u001b[0m\u001b[32m' oracle_cmds '\u001b[0m, \u001b[32m' /bin/share/oracle1, /bin/share/oracle2'\u001b[0m\u001b[1m]\u001b[0m\n"
      ]
     },
     "metadata": {},
     "output_type": "display_data"
    },
    {
     "data": {
      "text/html": [
       "<pre style=\"white-space:pre;overflow-x:auto;line-height:normal;font-family:Menlo,'DejaVu Sans Mono',consolas,'Courier New',monospace\"><span style=\"font-weight: bold\">[</span><span style=\"color: #008000; text-decoration-color: #008000\">' mysql_cmds '</span>, <span style=\"color: #008000; text-decoration-color: #008000\">' /bin/share/mysql1, /bin/share/mysql2, /bin/share/mysql3'</span><span style=\"font-weight: bold\">]</span>\n",
       "</pre>\n"
      ],
      "text/plain": [
       "\u001b[1m[\u001b[0m\u001b[32m' mysql_cmds '\u001b[0m, \u001b[32m' /bin/share/mysql1, /bin/share/mysql2, /bin/share/mysql3'\u001b[0m\u001b[1m]\u001b[0m\n"
      ]
     },
     "metadata": {},
     "output_type": "display_data"
    },
    {
     "data": {
      "text/html": [
       "<pre style=\"white-space:pre;overflow-x:auto;line-height:normal;font-family:Menlo,'DejaVu Sans Mono',consolas,'Courier New',monospace\"><span style=\"font-weight: bold\">[</span><span style=\"color: #008000; text-decoration-color: #008000\">' db2_cmds '</span>, <span style=\"color: #008000; text-decoration-color: #008000\">' /bin/share/db21, /bin/share/db22'</span><span style=\"font-weight: bold\">]</span>\n",
       "</pre>\n"
      ],
      "text/plain": [
       "\u001b[1m[\u001b[0m\u001b[32m' db2_cmds '\u001b[0m, \u001b[32m' /bin/share/db21, /bin/share/db22'\u001b[0m\u001b[1m]\u001b[0m\n"
      ]
     },
     "metadata": {},
     "output_type": "display_data"
    },
    {
     "data": {
      "text/html": [
       "<pre style=\"white-space:pre;overflow-x:auto;line-height:normal;font-family:Menlo,'DejaVu Sans Mono',consolas,'Courier New',monospace\">Output exported to excel in User's home directory under the name Cmnd_Alias.xlsx\n",
       "</pre>\n"
      ],
      "text/plain": [
       "Output exported to excel in User's home directory under the name Cmnd_Alias.xlsx\n"
      ]
     },
     "metadata": {},
     "output_type": "display_data"
    }
   ],
   "source": [
    "archivo = Find_Alias(\"Cmnd_Alias\")\n",
    "#print(f\"los datos que se envian al excel {archivo}\")\n",
    "#for cmd in archivo:\n",
    "    #print(cmd)\n",
    "    #print(cmd.split('='))\n",
    "    #print(type(cmd.split('=')))\n",
    "exporter_to_excel(\"Cmnd_Alias\",archivo)"
   ]
  },
  {
   "cell_type": "code",
   "execution_count": 5,
   "metadata": {},
   "outputs": [],
   "source": [
    "from rich.console import Console\n",
    "console = Console()"
   ]
  },
  {
   "cell_type": "code",
   "execution_count": 8,
   "metadata": {},
   "outputs": [
    {
     "data": {
      "text/html": [
       "<pre style=\"white-space:pre;overflow-x:auto;line-height:normal;font-family:Menlo,'DejaVu Sans Mono',consolas,'Courier New',monospace\"><span style=\"color: #800000; text-decoration-color: #800000; font-weight: bold\">Hello World!</span>\n",
       "</pre>\n"
      ],
      "text/plain": [
       "\u001b[1;31mHello World!\u001b[0m\n"
      ]
     },
     "metadata": {},
     "output_type": "display_data"
    },
    {
     "data": {
      "text/html": [
       "<pre style=\"white-space:pre;overflow-x:auto;line-height:normal;font-family:Menlo,'DejaVu Sans Mono',consolas,'Courier New',monospace\">Where there is a <span style=\"color: #008080; text-decoration-color: #008080; font-weight: bold\">Will</span> there <span style=\"text-decoration: underline\">is</span> a <span style=\"font-style: italic\">way</span>.\n",
       "</pre>\n"
      ],
      "text/plain": [
       "Where there is a \u001b[1;36mWill\u001b[0m there \u001b[4mis\u001b[0m a \u001b[3mway\u001b[0m.\n"
      ]
     },
     "metadata": {},
     "output_type": "display_data"
    }
   ],
   "source": [
    "console.print(\"Hello\", \"World!\", style=\"bold red\")\n",
    "console.print(\"Where there is a [bold cyan]Will[/bold cyan] there [u]is[/u] a [i]way[/i].\")\n"
   ]
  },
  {
   "cell_type": "code",
   "execution_count": 9,
   "metadata": {},
   "outputs": [
    {
     "data": {
      "text/html": [
       "<pre style=\"white-space:pre;overflow-x:auto;line-height:normal;font-family:Menlo,'DejaVu Sans Mono',consolas,'Courier New',monospace\"><span style=\"color: #000080; text-decoration-color: #000080\">╭───────────────────────────────────────── </span><span style=\"color: #000080; text-decoration-color: #000080; font-weight: bold\">&lt;</span><span style=\"color: #ff00ff; text-decoration-color: #ff00ff; font-weight: bold\">class</span><span style=\"color: #000000; text-decoration-color: #000000\"> </span><span style=\"color: #008000; text-decoration-color: #008000\">'list'</span><span style=\"color: #000080; text-decoration-color: #000080; font-weight: bold\">&gt;</span><span style=\"color: #000080; text-decoration-color: #000080\"> ──────────────────────────────────────────╮</span>\n",
       "<span style=\"color: #000080; text-decoration-color: #000080\">│</span> <span style=\"color: #008080; text-decoration-color: #008080\">Built-in mutable sequence.</span>                                                                        <span style=\"color: #000080; text-decoration-color: #000080\">│</span>\n",
       "<span style=\"color: #000080; text-decoration-color: #000080\">│</span>                                                                                                   <span style=\"color: #000080; text-decoration-color: #000080\">│</span>\n",
       "<span style=\"color: #000080; text-decoration-color: #000080\">│</span> <span style=\"color: #008000; text-decoration-color: #008000\">╭───────────────────────────────────────────────────────────────────────────────────────────────╮</span> <span style=\"color: #000080; text-decoration-color: #000080\">│</span>\n",
       "<span style=\"color: #000080; text-decoration-color: #000080\">│</span> <span style=\"color: #008000; text-decoration-color: #008000\">│</span> <span style=\"font-weight: bold\">[</span><span style=\"color: #008000; text-decoration-color: #008000\">'foo'</span>, <span style=\"color: #008000; text-decoration-color: #008000\">'bar'</span><span style=\"font-weight: bold\">]</span>                                                                                <span style=\"color: #008000; text-decoration-color: #008000\">│</span> <span style=\"color: #000080; text-decoration-color: #000080\">│</span>\n",
       "<span style=\"color: #000080; text-decoration-color: #000080\">│</span> <span style=\"color: #008000; text-decoration-color: #008000\">╰───────────────────────────────────────────────────────────────────────────────────────────────╯</span> <span style=\"color: #000080; text-decoration-color: #000080\">│</span>\n",
       "<span style=\"color: #000080; text-decoration-color: #000080\">│</span>                                                                                                   <span style=\"color: #000080; text-decoration-color: #000080\">│</span>\n",
       "<span style=\"color: #000080; text-decoration-color: #000080\">│</span>  <span style=\"color: #808000; text-decoration-color: #808000; font-style: italic\">append</span> = <span style=\"color: #00ffff; text-decoration-color: #00ffff; font-style: italic\">def </span><span style=\"color: #800000; text-decoration-color: #800000; font-weight: bold\">append</span><span style=\"font-weight: bold\">(</span>object, <span style=\"color: #800080; text-decoration-color: #800080\">/</span><span style=\"font-weight: bold\">)</span>: <span style=\"color: #7f7f7f; text-decoration-color: #7f7f7f\">Append object to the end of the list.</span>                            <span style=\"color: #000080; text-decoration-color: #000080\">│</span>\n",
       "<span style=\"color: #000080; text-decoration-color: #000080\">│</span>   <span style=\"color: #808000; text-decoration-color: #808000; font-style: italic\">clear</span> = <span style=\"color: #00ffff; text-decoration-color: #00ffff; font-style: italic\">def </span><span style=\"color: #800000; text-decoration-color: #800000; font-weight: bold\">clear</span><span style=\"font-weight: bold\">()</span>: <span style=\"color: #7f7f7f; text-decoration-color: #7f7f7f\">Remove all items from list.</span>                                                <span style=\"color: #000080; text-decoration-color: #000080\">│</span>\n",
       "<span style=\"color: #000080; text-decoration-color: #000080\">│</span>    <span style=\"color: #808000; text-decoration-color: #808000; font-style: italic\">copy</span> = <span style=\"color: #00ffff; text-decoration-color: #00ffff; font-style: italic\">def </span><span style=\"color: #800000; text-decoration-color: #800000; font-weight: bold\">copy</span><span style=\"font-weight: bold\">()</span>: <span style=\"color: #7f7f7f; text-decoration-color: #7f7f7f\">Return a shallow copy of the list.</span>                                          <span style=\"color: #000080; text-decoration-color: #000080\">│</span>\n",
       "<span style=\"color: #000080; text-decoration-color: #000080\">│</span>   <span style=\"color: #808000; text-decoration-color: #808000; font-style: italic\">count</span> = <span style=\"color: #00ffff; text-decoration-color: #00ffff; font-style: italic\">def </span><span style=\"color: #800000; text-decoration-color: #800000; font-weight: bold\">count</span><span style=\"font-weight: bold\">(</span>value, <span style=\"color: #800080; text-decoration-color: #800080\">/</span><span style=\"font-weight: bold\">)</span>: <span style=\"color: #7f7f7f; text-decoration-color: #7f7f7f\">Return number of occurrences of value.</span>                             <span style=\"color: #000080; text-decoration-color: #000080\">│</span>\n",
       "<span style=\"color: #000080; text-decoration-color: #000080\">│</span>  <span style=\"color: #808000; text-decoration-color: #808000; font-style: italic\">extend</span> = <span style=\"color: #00ffff; text-decoration-color: #00ffff; font-style: italic\">def </span><span style=\"color: #800000; text-decoration-color: #800000; font-weight: bold\">extend</span><span style=\"font-weight: bold\">(</span>iterable, <span style=\"color: #800080; text-decoration-color: #800080\">/</span><span style=\"font-weight: bold\">)</span>: <span style=\"color: #7f7f7f; text-decoration-color: #7f7f7f\">Extend list by appending elements from the iterable.</span>           <span style=\"color: #000080; text-decoration-color: #000080\">│</span>\n",
       "<span style=\"color: #000080; text-decoration-color: #000080\">│</span>   <span style=\"color: #808000; text-decoration-color: #808000; font-style: italic\">index</span> = <span style=\"color: #00ffff; text-decoration-color: #00ffff; font-style: italic\">def </span><span style=\"color: #800000; text-decoration-color: #800000; font-weight: bold\">index</span><span style=\"font-weight: bold\">(</span>value, <span style=\"color: #808000; text-decoration-color: #808000\">start</span>=<span style=\"color: #008080; text-decoration-color: #008080; font-weight: bold\">0</span>, <span style=\"color: #808000; text-decoration-color: #808000\">stop</span>=<span style=\"color: #008080; text-decoration-color: #008080; font-weight: bold\">9223372036854775807</span>, <span style=\"color: #800080; text-decoration-color: #800080\">/</span><span style=\"font-weight: bold\">)</span>: <span style=\"color: #7f7f7f; text-decoration-color: #7f7f7f\">Return first index of value.</span>    <span style=\"color: #000080; text-decoration-color: #000080\">│</span>\n",
       "<span style=\"color: #000080; text-decoration-color: #000080\">│</span>  <span style=\"color: #808000; text-decoration-color: #808000; font-style: italic\">insert</span> = <span style=\"color: #00ffff; text-decoration-color: #00ffff; font-style: italic\">def </span><span style=\"color: #800000; text-decoration-color: #800000; font-weight: bold\">insert</span><span style=\"font-weight: bold\">(</span>index, object, <span style=\"color: #800080; text-decoration-color: #800080\">/</span><span style=\"font-weight: bold\">)</span>: <span style=\"color: #7f7f7f; text-decoration-color: #7f7f7f\">Insert object before index.</span>                               <span style=\"color: #000080; text-decoration-color: #000080\">│</span>\n",
       "<span style=\"color: #000080; text-decoration-color: #000080\">│</span>     <span style=\"color: #808000; text-decoration-color: #808000; font-style: italic\">pop</span> = <span style=\"color: #00ffff; text-decoration-color: #00ffff; font-style: italic\">def </span><span style=\"color: #800000; text-decoration-color: #800000; font-weight: bold\">pop</span><span style=\"font-weight: bold\">(</span><span style=\"color: #808000; text-decoration-color: #808000\">index</span>=<span style=\"color: #008080; text-decoration-color: #008080; font-weight: bold\">-1</span>, <span style=\"color: #800080; text-decoration-color: #800080\">/</span><span style=\"font-weight: bold\">)</span>: <span style=\"color: #7f7f7f; text-decoration-color: #7f7f7f\">Remove and return item at index </span><span style=\"color: #7f7f7f; text-decoration-color: #7f7f7f; font-weight: bold\">(</span><span style=\"color: #7f7f7f; text-decoration-color: #7f7f7f\">default last</span><span style=\"color: #7f7f7f; text-decoration-color: #7f7f7f; font-weight: bold\">)</span><span style=\"color: #7f7f7f; text-decoration-color: #7f7f7f\">.</span>                   <span style=\"color: #000080; text-decoration-color: #000080\">│</span>\n",
       "<span style=\"color: #000080; text-decoration-color: #000080\">│</span>  <span style=\"color: #808000; text-decoration-color: #808000; font-style: italic\">remove</span> = <span style=\"color: #00ffff; text-decoration-color: #00ffff; font-style: italic\">def </span><span style=\"color: #800000; text-decoration-color: #800000; font-weight: bold\">remove</span><span style=\"font-weight: bold\">(</span>value, <span style=\"color: #800080; text-decoration-color: #800080\">/</span><span style=\"font-weight: bold\">)</span>: <span style=\"color: #7f7f7f; text-decoration-color: #7f7f7f\">Remove first occurrence of value.</span>                                 <span style=\"color: #000080; text-decoration-color: #000080\">│</span>\n",
       "<span style=\"color: #000080; text-decoration-color: #000080\">│</span> <span style=\"color: #808000; text-decoration-color: #808000; font-style: italic\">reverse</span> = <span style=\"color: #00ffff; text-decoration-color: #00ffff; font-style: italic\">def </span><span style=\"color: #800000; text-decoration-color: #800000; font-weight: bold\">reverse</span><span style=\"font-weight: bold\">()</span>: <span style=\"color: #7f7f7f; text-decoration-color: #7f7f7f\">Reverse *IN PLACE*.</span>                                                      <span style=\"color: #000080; text-decoration-color: #000080\">│</span>\n",
       "<span style=\"color: #000080; text-decoration-color: #000080\">│</span>    <span style=\"color: #808000; text-decoration-color: #808000; font-style: italic\">sort</span> = <span style=\"color: #00ffff; text-decoration-color: #00ffff; font-style: italic\">def </span><span style=\"color: #800000; text-decoration-color: #800000; font-weight: bold\">sort</span><span style=\"font-weight: bold\">(</span>*, <span style=\"color: #808000; text-decoration-color: #808000\">key</span>=<span style=\"color: #800080; text-decoration-color: #800080; font-style: italic\">None</span>, <span style=\"color: #808000; text-decoration-color: #808000\">reverse</span>=<span style=\"color: #ff0000; text-decoration-color: #ff0000; font-style: italic\">False</span><span style=\"font-weight: bold\">)</span>: <span style=\"color: #7f7f7f; text-decoration-color: #7f7f7f\">Sort the list in ascending order and return </span><span style=\"color: #bf7fbf; text-decoration-color: #bf7fbf; font-style: italic\">None</span><span style=\"color: #7f7f7f; text-decoration-color: #7f7f7f\">.</span> <span style=\"color: #000080; text-decoration-color: #000080\">│</span>\n",
       "<span style=\"color: #000080; text-decoration-color: #000080\">╰───────────────────────────────────────────────────────────────────────────────────────────────────╯</span>\n",
       "</pre>\n"
      ],
      "text/plain": [
       "\u001b[34m╭─\u001b[0m\u001b[34m──────────────────────────────────────── \u001b[0m\u001b[1;34m<\u001b[0m\u001b[1;95mclass\u001b[0m\u001b[39m \u001b[0m\u001b[32m'list'\u001b[0m\u001b[1;34m>\u001b[0m\u001b[34m ─────────────────────────────────────────\u001b[0m\u001b[34m─╮\u001b[0m\n",
       "\u001b[34m│\u001b[0m \u001b[36mBuilt-in mutable sequence.\u001b[0m                                                                        \u001b[34m│\u001b[0m\n",
       "\u001b[34m│\u001b[0m                                                                                                   \u001b[34m│\u001b[0m\n",
       "\u001b[34m│\u001b[0m \u001b[32m╭───────────────────────────────────────────────────────────────────────────────────────────────╮\u001b[0m \u001b[34m│\u001b[0m\n",
       "\u001b[34m│\u001b[0m \u001b[32m│\u001b[0m \u001b[1m[\u001b[0m\u001b[32m'foo'\u001b[0m, \u001b[32m'bar'\u001b[0m\u001b[1m]\u001b[0m                                                                                \u001b[32m│\u001b[0m \u001b[34m│\u001b[0m\n",
       "\u001b[34m│\u001b[0m \u001b[32m╰───────────────────────────────────────────────────────────────────────────────────────────────╯\u001b[0m \u001b[34m│\u001b[0m\n",
       "\u001b[34m│\u001b[0m                                                                                                   \u001b[34m│\u001b[0m\n",
       "\u001b[34m│\u001b[0m  \u001b[3;33mappend\u001b[0m = \u001b[3;96mdef \u001b[0m\u001b[1;31mappend\u001b[0m\u001b[1m(\u001b[0mobject, \u001b[35m/\u001b[0m\u001b[1m)\u001b[0m: \u001b[2mAppend object to the end of the list.\u001b[0m                            \u001b[34m│\u001b[0m\n",
       "\u001b[34m│\u001b[0m   \u001b[3;33mclear\u001b[0m = \u001b[3;96mdef \u001b[0m\u001b[1;31mclear\u001b[0m\u001b[1m(\u001b[0m\u001b[1m)\u001b[0m: \u001b[2mRemove all items from list.\u001b[0m                                                \u001b[34m│\u001b[0m\n",
       "\u001b[34m│\u001b[0m    \u001b[3;33mcopy\u001b[0m = \u001b[3;96mdef \u001b[0m\u001b[1;31mcopy\u001b[0m\u001b[1m(\u001b[0m\u001b[1m)\u001b[0m: \u001b[2mReturn a shallow copy of the list.\u001b[0m                                          \u001b[34m│\u001b[0m\n",
       "\u001b[34m│\u001b[0m   \u001b[3;33mcount\u001b[0m = \u001b[3;96mdef \u001b[0m\u001b[1;31mcount\u001b[0m\u001b[1m(\u001b[0mvalue, \u001b[35m/\u001b[0m\u001b[1m)\u001b[0m: \u001b[2mReturn number of occurrences of value.\u001b[0m                             \u001b[34m│\u001b[0m\n",
       "\u001b[34m│\u001b[0m  \u001b[3;33mextend\u001b[0m = \u001b[3;96mdef \u001b[0m\u001b[1;31mextend\u001b[0m\u001b[1m(\u001b[0miterable, \u001b[35m/\u001b[0m\u001b[1m)\u001b[0m: \u001b[2mExtend list by appending elements from the iterable.\u001b[0m           \u001b[34m│\u001b[0m\n",
       "\u001b[34m│\u001b[0m   \u001b[3;33mindex\u001b[0m = \u001b[3;96mdef \u001b[0m\u001b[1;31mindex\u001b[0m\u001b[1m(\u001b[0mvalue, \u001b[33mstart\u001b[0m=\u001b[1;36m0\u001b[0m, \u001b[33mstop\u001b[0m=\u001b[1;36m9223372036854775807\u001b[0m, \u001b[35m/\u001b[0m\u001b[1m)\u001b[0m: \u001b[2mReturn first index of value.\u001b[0m    \u001b[34m│\u001b[0m\n",
       "\u001b[34m│\u001b[0m  \u001b[3;33minsert\u001b[0m = \u001b[3;96mdef \u001b[0m\u001b[1;31minsert\u001b[0m\u001b[1m(\u001b[0mindex, object, \u001b[35m/\u001b[0m\u001b[1m)\u001b[0m: \u001b[2mInsert object before index.\u001b[0m                               \u001b[34m│\u001b[0m\n",
       "\u001b[34m│\u001b[0m     \u001b[3;33mpop\u001b[0m = \u001b[3;96mdef \u001b[0m\u001b[1;31mpop\u001b[0m\u001b[1m(\u001b[0m\u001b[33mindex\u001b[0m=\u001b[1;36m-1\u001b[0m, \u001b[35m/\u001b[0m\u001b[1m)\u001b[0m: \u001b[2mRemove and return item at index \u001b[0m\u001b[1;2m(\u001b[0m\u001b[2mdefault last\u001b[0m\u001b[1;2m)\u001b[0m\u001b[2m.\u001b[0m                   \u001b[34m│\u001b[0m\n",
       "\u001b[34m│\u001b[0m  \u001b[3;33mremove\u001b[0m = \u001b[3;96mdef \u001b[0m\u001b[1;31mremove\u001b[0m\u001b[1m(\u001b[0mvalue, \u001b[35m/\u001b[0m\u001b[1m)\u001b[0m: \u001b[2mRemove first occurrence of value.\u001b[0m                                 \u001b[34m│\u001b[0m\n",
       "\u001b[34m│\u001b[0m \u001b[3;33mreverse\u001b[0m = \u001b[3;96mdef \u001b[0m\u001b[1;31mreverse\u001b[0m\u001b[1m(\u001b[0m\u001b[1m)\u001b[0m: \u001b[2mReverse *IN PLACE*.\u001b[0m                                                      \u001b[34m│\u001b[0m\n",
       "\u001b[34m│\u001b[0m    \u001b[3;33msort\u001b[0m = \u001b[3;96mdef \u001b[0m\u001b[1;31msort\u001b[0m\u001b[1m(\u001b[0m*, \u001b[33mkey\u001b[0m=\u001b[3;35mNone\u001b[0m, \u001b[33mreverse\u001b[0m=\u001b[3;91mFalse\u001b[0m\u001b[1m)\u001b[0m: \u001b[2mSort the list in ascending order and return \u001b[0m\u001b[2;3;35mNone\u001b[0m\u001b[2m.\u001b[0m \u001b[34m│\u001b[0m\n",
       "\u001b[34m╰───────────────────────────────────────────────────────────────────────────────────────────────────╯\u001b[0m\n"
      ]
     },
     "metadata": {},
     "output_type": "display_data"
    }
   ],
   "source": [
    "my_list = [\"foo\", \"bar\"]\n",
    "from rich import inspect\n",
    "inspect(my_list, methods=True)"
   ]
  },
  {
   "cell_type": "code",
   "execution_count": 11,
   "metadata": {},
   "outputs": [
    {
     "data": {
      "text/html": [
       "<pre style=\"white-space:pre;overflow-x:auto;line-height:normal;font-family:Menlo,'DejaVu Sans Mono',consolas,'Courier New',monospace\"><span style=\"color: #7fbfbf; text-decoration-color: #7fbfbf\">[06:35:44] </span>task <span style=\"color: #008080; text-decoration-color: #008080; font-weight: bold\">1</span> complete                                                                         <a href=\"file:///var/folders/4q/l7x7kqhd15ndtb660b_1rs3c0000gn/T/ipykernel_31677/3174793479.py\" target=\"_blank\"><span style=\"color: #7f7f7f; text-decoration-color: #7f7f7f\">3174793479.py</span></a><span style=\"color: #7f7f7f; text-decoration-color: #7f7f7f\">:</span><a href=\"file:///var/folders/4q/l7x7kqhd15ndtb660b_1rs3c0000gn/T/ipykernel_31677/3174793479.py#11\" target=\"_blank\"><span style=\"color: #7f7f7f; text-decoration-color: #7f7f7f\">11</span></a>\n",
       "</pre>\n"
      ],
      "text/plain": [
       "\u001b[2;36m[06:35:44]\u001b[0m\u001b[2;36m \u001b[0mtask \u001b[1;36m1\u001b[0m complete                                                                         \u001b]8;id=94760;file:///var/folders/4q/l7x7kqhd15ndtb660b_1rs3c0000gn/T/ipykernel_31677/3174793479.py\u001b\\\u001b[2m3174793479.py\u001b[0m\u001b]8;;\u001b\\\u001b[2m:\u001b[0m\u001b]8;id=761032;file:///var/folders/4q/l7x7kqhd15ndtb660b_1rs3c0000gn/T/ipykernel_31677/3174793479.py#11\u001b\\\u001b[2m11\u001b[0m\u001b]8;;\u001b\\\n"
      ]
     },
     "metadata": {},
     "output_type": "display_data"
    },
    {
     "data": {
      "text/html": [
       "<pre style=\"white-space:pre;overflow-x:auto;line-height:normal;font-family:Menlo,'DejaVu Sans Mono',consolas,'Courier New',monospace\"><span style=\"color: #7fbfbf; text-decoration-color: #7fbfbf\">[06:35:45] </span>task <span style=\"color: #008080; text-decoration-color: #008080; font-weight: bold\">2</span> complete                                                                         <a href=\"file:///var/folders/4q/l7x7kqhd15ndtb660b_1rs3c0000gn/T/ipykernel_31677/3174793479.py\" target=\"_blank\"><span style=\"color: #7f7f7f; text-decoration-color: #7f7f7f\">3174793479.py</span></a><span style=\"color: #7f7f7f; text-decoration-color: #7f7f7f\">:</span><a href=\"file:///var/folders/4q/l7x7kqhd15ndtb660b_1rs3c0000gn/T/ipykernel_31677/3174793479.py#11\" target=\"_blank\"><span style=\"color: #7f7f7f; text-decoration-color: #7f7f7f\">11</span></a>\n",
       "</pre>\n"
      ],
      "text/plain": [
       "\u001b[2;36m[06:35:45]\u001b[0m\u001b[2;36m \u001b[0mtask \u001b[1;36m2\u001b[0m complete                                                                         \u001b]8;id=379462;file:///var/folders/4q/l7x7kqhd15ndtb660b_1rs3c0000gn/T/ipykernel_31677/3174793479.py\u001b\\\u001b[2m3174793479.py\u001b[0m\u001b]8;;\u001b\\\u001b[2m:\u001b[0m\u001b]8;id=95973;file:///var/folders/4q/l7x7kqhd15ndtb660b_1rs3c0000gn/T/ipykernel_31677/3174793479.py#11\u001b\\\u001b[2m11\u001b[0m\u001b]8;;\u001b\\\n"
      ]
     },
     "metadata": {},
     "output_type": "display_data"
    },
    {
     "data": {
      "text/html": [
       "<pre style=\"white-space:pre;overflow-x:auto;line-height:normal;font-family:Menlo,'DejaVu Sans Mono',consolas,'Courier New',monospace\"><span style=\"color: #7fbfbf; text-decoration-color: #7fbfbf\">[06:35:46] </span>task <span style=\"color: #008080; text-decoration-color: #008080; font-weight: bold\">3</span> complete                                                                         <a href=\"file:///var/folders/4q/l7x7kqhd15ndtb660b_1rs3c0000gn/T/ipykernel_31677/3174793479.py\" target=\"_blank\"><span style=\"color: #7f7f7f; text-decoration-color: #7f7f7f\">3174793479.py</span></a><span style=\"color: #7f7f7f; text-decoration-color: #7f7f7f\">:</span><a href=\"file:///var/folders/4q/l7x7kqhd15ndtb660b_1rs3c0000gn/T/ipykernel_31677/3174793479.py#11\" target=\"_blank\"><span style=\"color: #7f7f7f; text-decoration-color: #7f7f7f\">11</span></a>\n",
       "</pre>\n"
      ],
      "text/plain": [
       "\u001b[2;36m[06:35:46]\u001b[0m\u001b[2;36m \u001b[0mtask \u001b[1;36m3\u001b[0m complete                                                                         \u001b]8;id=161190;file:///var/folders/4q/l7x7kqhd15ndtb660b_1rs3c0000gn/T/ipykernel_31677/3174793479.py\u001b\\\u001b[2m3174793479.py\u001b[0m\u001b]8;;\u001b\\\u001b[2m:\u001b[0m\u001b]8;id=102302;file:///var/folders/4q/l7x7kqhd15ndtb660b_1rs3c0000gn/T/ipykernel_31677/3174793479.py#11\u001b\\\u001b[2m11\u001b[0m\u001b]8;;\u001b\\\n"
      ]
     },
     "metadata": {},
     "output_type": "display_data"
    },
    {
     "data": {
      "text/html": [
       "<pre style=\"white-space:pre;overflow-x:auto;line-height:normal;font-family:Menlo,'DejaVu Sans Mono',consolas,'Courier New',monospace\"><span style=\"color: #7fbfbf; text-decoration-color: #7fbfbf\">[06:35:47] </span>task <span style=\"color: #008080; text-decoration-color: #008080; font-weight: bold\">4</span> complete                                                                         <a href=\"file:///var/folders/4q/l7x7kqhd15ndtb660b_1rs3c0000gn/T/ipykernel_31677/3174793479.py\" target=\"_blank\"><span style=\"color: #7f7f7f; text-decoration-color: #7f7f7f\">3174793479.py</span></a><span style=\"color: #7f7f7f; text-decoration-color: #7f7f7f\">:</span><a href=\"file:///var/folders/4q/l7x7kqhd15ndtb660b_1rs3c0000gn/T/ipykernel_31677/3174793479.py#11\" target=\"_blank\"><span style=\"color: #7f7f7f; text-decoration-color: #7f7f7f\">11</span></a>\n",
       "</pre>\n"
      ],
      "text/plain": [
       "\u001b[2;36m[06:35:47]\u001b[0m\u001b[2;36m \u001b[0mtask \u001b[1;36m4\u001b[0m complete                                                                         \u001b]8;id=425928;file:///var/folders/4q/l7x7kqhd15ndtb660b_1rs3c0000gn/T/ipykernel_31677/3174793479.py\u001b\\\u001b[2m3174793479.py\u001b[0m\u001b]8;;\u001b\\\u001b[2m:\u001b[0m\u001b]8;id=795811;file:///var/folders/4q/l7x7kqhd15ndtb660b_1rs3c0000gn/T/ipykernel_31677/3174793479.py#11\u001b\\\u001b[2m11\u001b[0m\u001b]8;;\u001b\\\n"
      ]
     },
     "metadata": {},
     "output_type": "display_data"
    },
    {
     "data": {
      "text/html": [
       "<pre style=\"white-space:pre;overflow-x:auto;line-height:normal;font-family:Menlo,'DejaVu Sans Mono',consolas,'Courier New',monospace\"><span style=\"color: #7fbfbf; text-decoration-color: #7fbfbf\">[06:35:48] </span>task <span style=\"color: #008080; text-decoration-color: #008080; font-weight: bold\">5</span> complete                                                                         <a href=\"file:///var/folders/4q/l7x7kqhd15ndtb660b_1rs3c0000gn/T/ipykernel_31677/3174793479.py\" target=\"_blank\"><span style=\"color: #7f7f7f; text-decoration-color: #7f7f7f\">3174793479.py</span></a><span style=\"color: #7f7f7f; text-decoration-color: #7f7f7f\">:</span><a href=\"file:///var/folders/4q/l7x7kqhd15ndtb660b_1rs3c0000gn/T/ipykernel_31677/3174793479.py#11\" target=\"_blank\"><span style=\"color: #7f7f7f; text-decoration-color: #7f7f7f\">11</span></a>\n",
       "</pre>\n"
      ],
      "text/plain": [
       "\u001b[2;36m[06:35:48]\u001b[0m\u001b[2;36m \u001b[0mtask \u001b[1;36m5\u001b[0m complete                                                                         \u001b]8;id=764875;file:///var/folders/4q/l7x7kqhd15ndtb660b_1rs3c0000gn/T/ipykernel_31677/3174793479.py\u001b\\\u001b[2m3174793479.py\u001b[0m\u001b]8;;\u001b\\\u001b[2m:\u001b[0m\u001b]8;id=160033;file:///var/folders/4q/l7x7kqhd15ndtb660b_1rs3c0000gn/T/ipykernel_31677/3174793479.py#11\u001b\\\u001b[2m11\u001b[0m\u001b]8;;\u001b\\\n"
      ]
     },
     "metadata": {},
     "output_type": "display_data"
    },
    {
     "data": {
      "text/html": [
       "<pre style=\"white-space:pre;overflow-x:auto;line-height:normal;font-family:Menlo,'DejaVu Sans Mono',consolas,'Courier New',monospace\"><span style=\"color: #7fbfbf; text-decoration-color: #7fbfbf\">[06:35:49] </span>task <span style=\"color: #008080; text-decoration-color: #008080; font-weight: bold\">6</span> complete                                                                         <a href=\"file:///var/folders/4q/l7x7kqhd15ndtb660b_1rs3c0000gn/T/ipykernel_31677/3174793479.py\" target=\"_blank\"><span style=\"color: #7f7f7f; text-decoration-color: #7f7f7f\">3174793479.py</span></a><span style=\"color: #7f7f7f; text-decoration-color: #7f7f7f\">:</span><a href=\"file:///var/folders/4q/l7x7kqhd15ndtb660b_1rs3c0000gn/T/ipykernel_31677/3174793479.py#11\" target=\"_blank\"><span style=\"color: #7f7f7f; text-decoration-color: #7f7f7f\">11</span></a>\n",
       "</pre>\n"
      ],
      "text/plain": [
       "\u001b[2;36m[06:35:49]\u001b[0m\u001b[2;36m \u001b[0mtask \u001b[1;36m6\u001b[0m complete                                                                         \u001b]8;id=430794;file:///var/folders/4q/l7x7kqhd15ndtb660b_1rs3c0000gn/T/ipykernel_31677/3174793479.py\u001b\\\u001b[2m3174793479.py\u001b[0m\u001b]8;;\u001b\\\u001b[2m:\u001b[0m\u001b]8;id=537658;file:///var/folders/4q/l7x7kqhd15ndtb660b_1rs3c0000gn/T/ipykernel_31677/3174793479.py#11\u001b\\\u001b[2m11\u001b[0m\u001b]8;;\u001b\\\n"
      ]
     },
     "metadata": {},
     "output_type": "display_data"
    },
    {
     "data": {
      "text/html": [
       "<pre style=\"white-space:pre;overflow-x:auto;line-height:normal;font-family:Menlo,'DejaVu Sans Mono',consolas,'Courier New',monospace\"><span style=\"color: #7fbfbf; text-decoration-color: #7fbfbf\">[06:35:50] </span>task <span style=\"color: #008080; text-decoration-color: #008080; font-weight: bold\">7</span> complete                                                                         <a href=\"file:///var/folders/4q/l7x7kqhd15ndtb660b_1rs3c0000gn/T/ipykernel_31677/3174793479.py\" target=\"_blank\"><span style=\"color: #7f7f7f; text-decoration-color: #7f7f7f\">3174793479.py</span></a><span style=\"color: #7f7f7f; text-decoration-color: #7f7f7f\">:</span><a href=\"file:///var/folders/4q/l7x7kqhd15ndtb660b_1rs3c0000gn/T/ipykernel_31677/3174793479.py#11\" target=\"_blank\"><span style=\"color: #7f7f7f; text-decoration-color: #7f7f7f\">11</span></a>\n",
       "</pre>\n"
      ],
      "text/plain": [
       "\u001b[2;36m[06:35:50]\u001b[0m\u001b[2;36m \u001b[0mtask \u001b[1;36m7\u001b[0m complete                                                                         \u001b]8;id=361;file:///var/folders/4q/l7x7kqhd15ndtb660b_1rs3c0000gn/T/ipykernel_31677/3174793479.py\u001b\\\u001b[2m3174793479.py\u001b[0m\u001b]8;;\u001b\\\u001b[2m:\u001b[0m\u001b]8;id=367991;file:///var/folders/4q/l7x7kqhd15ndtb660b_1rs3c0000gn/T/ipykernel_31677/3174793479.py#11\u001b\\\u001b[2m11\u001b[0m\u001b]8;;\u001b\\\n"
      ]
     },
     "metadata": {},
     "output_type": "display_data"
    },
    {
     "data": {
      "text/html": [
       "<pre style=\"white-space:pre;overflow-x:auto;line-height:normal;font-family:Menlo,'DejaVu Sans Mono',consolas,'Courier New',monospace\"><span style=\"color: #7fbfbf; text-decoration-color: #7fbfbf\">[06:35:51] </span>task <span style=\"color: #008080; text-decoration-color: #008080; font-weight: bold\">8</span> complete                                                                         <a href=\"file:///var/folders/4q/l7x7kqhd15ndtb660b_1rs3c0000gn/T/ipykernel_31677/3174793479.py\" target=\"_blank\"><span style=\"color: #7f7f7f; text-decoration-color: #7f7f7f\">3174793479.py</span></a><span style=\"color: #7f7f7f; text-decoration-color: #7f7f7f\">:</span><a href=\"file:///var/folders/4q/l7x7kqhd15ndtb660b_1rs3c0000gn/T/ipykernel_31677/3174793479.py#11\" target=\"_blank\"><span style=\"color: #7f7f7f; text-decoration-color: #7f7f7f\">11</span></a>\n",
       "</pre>\n"
      ],
      "text/plain": [
       "\u001b[2;36m[06:35:51]\u001b[0m\u001b[2;36m \u001b[0mtask \u001b[1;36m8\u001b[0m complete                                                                         \u001b]8;id=420722;file:///var/folders/4q/l7x7kqhd15ndtb660b_1rs3c0000gn/T/ipykernel_31677/3174793479.py\u001b\\\u001b[2m3174793479.py\u001b[0m\u001b]8;;\u001b\\\u001b[2m:\u001b[0m\u001b]8;id=459644;file:///var/folders/4q/l7x7kqhd15ndtb660b_1rs3c0000gn/T/ipykernel_31677/3174793479.py#11\u001b\\\u001b[2m11\u001b[0m\u001b]8;;\u001b\\\n"
      ]
     },
     "metadata": {},
     "output_type": "display_data"
    },
    {
     "data": {
      "text/html": [
       "<pre style=\"white-space:pre;overflow-x:auto;line-height:normal;font-family:Menlo,'DejaVu Sans Mono',consolas,'Courier New',monospace\"><span style=\"color: #7fbfbf; text-decoration-color: #7fbfbf\">[06:35:52] </span>task <span style=\"color: #008080; text-decoration-color: #008080; font-weight: bold\">9</span> complete                                                                         <a href=\"file:///var/folders/4q/l7x7kqhd15ndtb660b_1rs3c0000gn/T/ipykernel_31677/3174793479.py\" target=\"_blank\"><span style=\"color: #7f7f7f; text-decoration-color: #7f7f7f\">3174793479.py</span></a><span style=\"color: #7f7f7f; text-decoration-color: #7f7f7f\">:</span><a href=\"file:///var/folders/4q/l7x7kqhd15ndtb660b_1rs3c0000gn/T/ipykernel_31677/3174793479.py#11\" target=\"_blank\"><span style=\"color: #7f7f7f; text-decoration-color: #7f7f7f\">11</span></a>\n",
       "</pre>\n"
      ],
      "text/plain": [
       "\u001b[2;36m[06:35:52]\u001b[0m\u001b[2;36m \u001b[0mtask \u001b[1;36m9\u001b[0m complete                                                                         \u001b]8;id=488878;file:///var/folders/4q/l7x7kqhd15ndtb660b_1rs3c0000gn/T/ipykernel_31677/3174793479.py\u001b\\\u001b[2m3174793479.py\u001b[0m\u001b]8;;\u001b\\\u001b[2m:\u001b[0m\u001b]8;id=651821;file:///var/folders/4q/l7x7kqhd15ndtb660b_1rs3c0000gn/T/ipykernel_31677/3174793479.py#11\u001b\\\u001b[2m11\u001b[0m\u001b]8;;\u001b\\\n"
      ]
     },
     "metadata": {},
     "output_type": "display_data"
    },
    {
     "data": {
      "text/html": [
       "<pre style=\"white-space:pre;overflow-x:auto;line-height:normal;font-family:Menlo,'DejaVu Sans Mono',consolas,'Courier New',monospace\"><span style=\"color: #7fbfbf; text-decoration-color: #7fbfbf\">[06:35:53] </span>task <span style=\"color: #008080; text-decoration-color: #008080; font-weight: bold\">10</span> complete                                                                        <a href=\"file:///var/folders/4q/l7x7kqhd15ndtb660b_1rs3c0000gn/T/ipykernel_31677/3174793479.py\" target=\"_blank\"><span style=\"color: #7f7f7f; text-decoration-color: #7f7f7f\">3174793479.py</span></a><span style=\"color: #7f7f7f; text-decoration-color: #7f7f7f\">:</span><a href=\"file:///var/folders/4q/l7x7kqhd15ndtb660b_1rs3c0000gn/T/ipykernel_31677/3174793479.py#11\" target=\"_blank\"><span style=\"color: #7f7f7f; text-decoration-color: #7f7f7f\">11</span></a>\n",
       "</pre>\n"
      ],
      "text/plain": [
       "\u001b[2;36m[06:35:53]\u001b[0m\u001b[2;36m \u001b[0mtask \u001b[1;36m10\u001b[0m complete                                                                        \u001b]8;id=118614;file:///var/folders/4q/l7x7kqhd15ndtb660b_1rs3c0000gn/T/ipykernel_31677/3174793479.py\u001b\\\u001b[2m3174793479.py\u001b[0m\u001b]8;;\u001b\\\u001b[2m:\u001b[0m\u001b]8;id=935500;file:///var/folders/4q/l7x7kqhd15ndtb660b_1rs3c0000gn/T/ipykernel_31677/3174793479.py#11\u001b\\\u001b[2m11\u001b[0m\u001b]8;;\u001b\\\n"
      ]
     },
     "metadata": {},
     "output_type": "display_data"
    },
    {
     "data": {
      "text/html": [
       "<pre style=\"white-space:pre;overflow-x:auto;line-height:normal;font-family:Menlo,'DejaVu Sans Mono',consolas,'Courier New',monospace\"></pre>\n"
      ],
      "text/plain": []
     },
     "metadata": {},
     "output_type": "display_data"
    }
   ],
   "source": [
    "    from time import sleep\n",
    "    from rich.console import Console\n",
    "\n",
    "    console = Console()\n",
    "    tasks = [f\"task {n}\" for n in range(1, 11)]\n",
    "\n",
    "    with console.status(\"[bold green]Working on tasks...\") as status:\n",
    "        while tasks:\n",
    "            task = tasks.pop(0)\n",
    "            sleep(1)\n",
    "            console.log(f\"{task} complete\")"
   ]
  },
  {
   "cell_type": "code",
   "execution_count": 104,
   "metadata": {},
   "outputs": [
    {
     "data": {
      "application/vnd.jupyter.widget-view+json": {
       "model_id": "1bc6681d9edd4a909b24850c03c8289f",
       "version_major": 2,
       "version_minor": 0
      },
      "text/plain": [
       "Output()"
      ]
     },
     "metadata": {},
     "output_type": "display_data"
    },
    {
     "data": {
      "text/html": [
       "<pre style=\"white-space:pre;overflow-x:auto;line-height:normal;font-family:Menlo,'DejaVu Sans Mono',consolas,'Courier New',monospace\"></pre>\n"
      ],
      "text/plain": []
     },
     "metadata": {},
     "output_type": "display_data"
    },
    {
     "data": {
      "text/html": [
       "<pre style=\"white-space:pre;overflow-x:auto;line-height:normal;font-family:Menlo,'DejaVu Sans Mono',consolas,'Courier New',monospace\">\n",
       "</pre>\n"
      ],
      "text/plain": [
       "\n"
      ]
     },
     "metadata": {},
     "output_type": "display_data"
    }
   ],
   "source": [
    "from rich.progress import track\n",
    "from time import sleep\n",
    "\n",
    "\n",
    "def process_data():\n",
    "    sleep(0.02)\n",
    "\n",
    "\n",
    "for _ in track(range(100), description='[green]Processing data'):\n",
    "    process_data()"
   ]
  },
  {
   "cell_type": "code",
   "execution_count": 14,
   "metadata": {},
   "outputs": [
    {
     "data": {
      "text/html": [
       "<pre style=\"white-space:pre;overflow-x:auto;line-height:normal;font-family:Menlo,'DejaVu Sans Mono',consolas,'Courier New',monospace\"><span style=\"color: #7fbfbf; text-decoration-color: #7fbfbf\">[06:41:41] </span><span style=\"color: #008000; text-decoration-color: #008000\">Finish fetching data</span> <span style=\"color: #008080; text-decoration-color: #008080; font-weight: bold\">1</span>                                                                    <a href=\"file:///var/folders/4q/l7x7kqhd15ndtb660b_1rs3c0000gn/T/ipykernel_31677/890790288.py\" target=\"_blank\"><span style=\"color: #7f7f7f; text-decoration-color: #7f7f7f\">890790288.py</span></a><span style=\"color: #7f7f7f; text-decoration-color: #7f7f7f\">:</span><a href=\"file:///var/folders/4q/l7x7kqhd15ndtb660b_1rs3c0000gn/T/ipykernel_31677/890790288.py#6\" target=\"_blank\"><span style=\"color: #7f7f7f; text-decoration-color: #7f7f7f\">6</span></a>\n",
       "</pre>\n"
      ],
      "text/plain": [
       "\u001b[2;36m[06:41:41]\u001b[0m\u001b[2;36m \u001b[0m\u001b[32mFinish fetching data\u001b[0m \u001b[1;36m1\u001b[0m                                                                    \u001b]8;id=462316;file:///var/folders/4q/l7x7kqhd15ndtb660b_1rs3c0000gn/T/ipykernel_31677/890790288.py\u001b\\\u001b[2m890790288.py\u001b[0m\u001b]8;;\u001b\\\u001b[2m:\u001b[0m\u001b]8;id=368641;file:///var/folders/4q/l7x7kqhd15ndtb660b_1rs3c0000gn/T/ipykernel_31677/890790288.py#6\u001b\\\u001b[2m6\u001b[0m\u001b]8;;\u001b\\\n"
      ]
     },
     "metadata": {},
     "output_type": "display_data"
    },
    {
     "data": {
      "text/html": [
       "<pre style=\"white-space:pre;overflow-x:auto;line-height:normal;font-family:Menlo,'DejaVu Sans Mono',consolas,'Courier New',monospace\"><span style=\"color: #7fbfbf; text-decoration-color: #7fbfbf\">[06:41:42] </span><span style=\"color: #008000; text-decoration-color: #008000\">Finish fetching data</span> <span style=\"color: #008080; text-decoration-color: #008080; font-weight: bold\">2</span>                                                                    <a href=\"file:///var/folders/4q/l7x7kqhd15ndtb660b_1rs3c0000gn/T/ipykernel_31677/890790288.py\" target=\"_blank\"><span style=\"color: #7f7f7f; text-decoration-color: #7f7f7f\">890790288.py</span></a><span style=\"color: #7f7f7f; text-decoration-color: #7f7f7f\">:</span><a href=\"file:///var/folders/4q/l7x7kqhd15ndtb660b_1rs3c0000gn/T/ipykernel_31677/890790288.py#6\" target=\"_blank\"><span style=\"color: #7f7f7f; text-decoration-color: #7f7f7f\">6</span></a>\n",
       "</pre>\n"
      ],
      "text/plain": [
       "\u001b[2;36m[06:41:42]\u001b[0m\u001b[2;36m \u001b[0m\u001b[32mFinish fetching data\u001b[0m \u001b[1;36m2\u001b[0m                                                                    \u001b]8;id=649803;file:///var/folders/4q/l7x7kqhd15ndtb660b_1rs3c0000gn/T/ipykernel_31677/890790288.py\u001b\\\u001b[2m890790288.py\u001b[0m\u001b]8;;\u001b\\\u001b[2m:\u001b[0m\u001b]8;id=862690;file:///var/folders/4q/l7x7kqhd15ndtb660b_1rs3c0000gn/T/ipykernel_31677/890790288.py#6\u001b\\\u001b[2m6\u001b[0m\u001b]8;;\u001b\\\n"
      ]
     },
     "metadata": {},
     "output_type": "display_data"
    },
    {
     "data": {
      "text/html": [
       "<pre style=\"white-space:pre;overflow-x:auto;line-height:normal;font-family:Menlo,'DejaVu Sans Mono',consolas,'Courier New',monospace\"><span style=\"color: #7fbfbf; text-decoration-color: #7fbfbf\">[06:41:43] </span><span style=\"color: #008000; text-decoration-color: #008000\">Finish fetching data</span> <span style=\"color: #008080; text-decoration-color: #008080; font-weight: bold\">3</span>                                                                    <a href=\"file:///var/folders/4q/l7x7kqhd15ndtb660b_1rs3c0000gn/T/ipykernel_31677/890790288.py\" target=\"_blank\"><span style=\"color: #7f7f7f; text-decoration-color: #7f7f7f\">890790288.py</span></a><span style=\"color: #7f7f7f; text-decoration-color: #7f7f7f\">:</span><a href=\"file:///var/folders/4q/l7x7kqhd15ndtb660b_1rs3c0000gn/T/ipykernel_31677/890790288.py#6\" target=\"_blank\"><span style=\"color: #7f7f7f; text-decoration-color: #7f7f7f\">6</span></a>\n",
       "</pre>\n"
      ],
      "text/plain": [
       "\u001b[2;36m[06:41:43]\u001b[0m\u001b[2;36m \u001b[0m\u001b[32mFinish fetching data\u001b[0m \u001b[1;36m3\u001b[0m                                                                    \u001b]8;id=242419;file:///var/folders/4q/l7x7kqhd15ndtb660b_1rs3c0000gn/T/ipykernel_31677/890790288.py\u001b\\\u001b[2m890790288.py\u001b[0m\u001b]8;;\u001b\\\u001b[2m:\u001b[0m\u001b]8;id=560568;file:///var/folders/4q/l7x7kqhd15ndtb660b_1rs3c0000gn/T/ipykernel_31677/890790288.py#6\u001b\\\u001b[2m6\u001b[0m\u001b]8;;\u001b\\\n"
      ]
     },
     "metadata": {},
     "output_type": "display_data"
    },
    {
     "data": {
      "text/html": [
       "<pre style=\"white-space:pre;overflow-x:auto;line-height:normal;font-family:Menlo,'DejaVu Sans Mono',consolas,'Courier New',monospace\"><span style=\"color: #7fbfbf; text-decoration-color: #7fbfbf\">[06:41:44] </span><span style=\"color: #008000; text-decoration-color: #008000\">Finish fetching data</span> <span style=\"color: #008080; text-decoration-color: #008080; font-weight: bold\">4</span>                                                                    <a href=\"file:///var/folders/4q/l7x7kqhd15ndtb660b_1rs3c0000gn/T/ipykernel_31677/890790288.py\" target=\"_blank\"><span style=\"color: #7f7f7f; text-decoration-color: #7f7f7f\">890790288.py</span></a><span style=\"color: #7f7f7f; text-decoration-color: #7f7f7f\">:</span><a href=\"file:///var/folders/4q/l7x7kqhd15ndtb660b_1rs3c0000gn/T/ipykernel_31677/890790288.py#6\" target=\"_blank\"><span style=\"color: #7f7f7f; text-decoration-color: #7f7f7f\">6</span></a>\n",
       "</pre>\n"
      ],
      "text/plain": [
       "\u001b[2;36m[06:41:44]\u001b[0m\u001b[2;36m \u001b[0m\u001b[32mFinish fetching data\u001b[0m \u001b[1;36m4\u001b[0m                                                                    \u001b]8;id=470467;file:///var/folders/4q/l7x7kqhd15ndtb660b_1rs3c0000gn/T/ipykernel_31677/890790288.py\u001b\\\u001b[2m890790288.py\u001b[0m\u001b]8;;\u001b\\\u001b[2m:\u001b[0m\u001b]8;id=897036;file:///var/folders/4q/l7x7kqhd15ndtb660b_1rs3c0000gn/T/ipykernel_31677/890790288.py#6\u001b\\\u001b[2m6\u001b[0m\u001b]8;;\u001b\\\n"
      ]
     },
     "metadata": {},
     "output_type": "display_data"
    },
    {
     "data": {
      "text/html": [
       "<pre style=\"white-space:pre;overflow-x:auto;line-height:normal;font-family:Menlo,'DejaVu Sans Mono',consolas,'Courier New',monospace\"><span style=\"color: #7fbfbf; text-decoration-color: #7fbfbf\">[06:41:45] </span><span style=\"color: #008000; text-decoration-color: #008000\">Finish fetching data</span> <span style=\"color: #008080; text-decoration-color: #008080; font-weight: bold\">5</span>                                                                    <a href=\"file:///var/folders/4q/l7x7kqhd15ndtb660b_1rs3c0000gn/T/ipykernel_31677/890790288.py\" target=\"_blank\"><span style=\"color: #7f7f7f; text-decoration-color: #7f7f7f\">890790288.py</span></a><span style=\"color: #7f7f7f; text-decoration-color: #7f7f7f\">:</span><a href=\"file:///var/folders/4q/l7x7kqhd15ndtb660b_1rs3c0000gn/T/ipykernel_31677/890790288.py#6\" target=\"_blank\"><span style=\"color: #7f7f7f; text-decoration-color: #7f7f7f\">6</span></a>\n",
       "</pre>\n"
      ],
      "text/plain": [
       "\u001b[2;36m[06:41:45]\u001b[0m\u001b[2;36m \u001b[0m\u001b[32mFinish fetching data\u001b[0m \u001b[1;36m5\u001b[0m                                                                    \u001b]8;id=589115;file:///var/folders/4q/l7x7kqhd15ndtb660b_1rs3c0000gn/T/ipykernel_31677/890790288.py\u001b\\\u001b[2m890790288.py\u001b[0m\u001b]8;;\u001b\\\u001b[2m:\u001b[0m\u001b]8;id=669995;file:///var/folders/4q/l7x7kqhd15ndtb660b_1rs3c0000gn/T/ipykernel_31677/890790288.py#6\u001b\\\u001b[2m6\u001b[0m\u001b]8;;\u001b\\\n"
      ]
     },
     "metadata": {},
     "output_type": "display_data"
    },
    {
     "data": {
      "text/html": [
       "<pre style=\"white-space:pre;overflow-x:auto;line-height:normal;font-family:Menlo,'DejaVu Sans Mono',consolas,'Courier New',monospace\"><span style=\"color: #7fbfbf; text-decoration-color: #7fbfbf\">           </span><span style=\"color: #800000; text-decoration-color: #800000; font-weight: bold\">Done!</span>                                                                                     <a href=\"file:///var/folders/4q/l7x7kqhd15ndtb660b_1rs3c0000gn/T/ipykernel_31677/890790288.py\" target=\"_blank\"><span style=\"color: #7f7f7f; text-decoration-color: #7f7f7f\">890790288.py</span></a><span style=\"color: #7f7f7f; text-decoration-color: #7f7f7f\">:</span><a href=\"file:///var/folders/4q/l7x7kqhd15ndtb660b_1rs3c0000gn/T/ipykernel_31677/890790288.py#8\" target=\"_blank\"><span style=\"color: #7f7f7f; text-decoration-color: #7f7f7f\">8</span></a>\n",
       "</pre>\n"
      ],
      "text/plain": [
       "\u001b[2;36m          \u001b[0m\u001b[2;36m \u001b[0m\u001b[1;31mDone!\u001b[0m                                                                                     \u001b]8;id=422814;file:///var/folders/4q/l7x7kqhd15ndtb660b_1rs3c0000gn/T/ipykernel_31677/890790288.py\u001b\\\u001b[2m890790288.py\u001b[0m\u001b]8;;\u001b\\\u001b[2m:\u001b[0m\u001b]8;id=516066;file:///var/folders/4q/l7x7kqhd15ndtb660b_1rs3c0000gn/T/ipykernel_31677/890790288.py#8\u001b\\\u001b[2m8\u001b[0m\u001b]8;;\u001b\\\n"
      ]
     },
     "metadata": {},
     "output_type": "display_data"
    },
    {
     "data": {
      "text/html": [
       "<pre style=\"white-space:pre;overflow-x:auto;line-height:normal;font-family:Menlo,'DejaVu Sans Mono',consolas,'Courier New',monospace\"></pre>\n"
      ],
      "text/plain": []
     },
     "metadata": {},
     "output_type": "display_data"
    }
   ],
   "source": [
    "data = [1, 2, 3, 4, 5]\n",
    "with console.status(\"[bold green]Fetching data...\") as status:\n",
    "    while data:\n",
    "        num = data.pop(0)\n",
    "        sleep(1)\n",
    "        console.log(f\"[green]Finish fetching data[/green] {num}\")\n",
    "\n",
    "    console.log(f'[bold][red]Done!')"
   ]
  },
  {
   "cell_type": "code",
   "execution_count": 109,
   "metadata": {},
   "outputs": [
    {
     "data": {
      "application/vnd.jupyter.widget-view+json": {
       "model_id": "c8f2af0d63bd478e8cac2ea110726e51",
       "version_major": 2,
       "version_minor": 0
      },
      "text/plain": [
       "Output()"
      ]
     },
     "metadata": {},
     "output_type": "display_data"
    },
    {
     "data": {
      "text/html": [
       "<pre style=\"white-space:pre;overflow-x:auto;line-height:normal;font-family:Menlo,'DejaVu Sans Mono',consolas,'Courier New',monospace\"></pre>\n"
      ],
      "text/plain": []
     },
     "metadata": {},
     "output_type": "display_data"
    },
    {
     "data": {
      "text/html": [
       "<pre style=\"white-space:pre;overflow-x:auto;line-height:normal;font-family:Menlo,'DejaVu Sans Mono',consolas,'Courier New',monospace\">\n",
       "</pre>\n"
      ],
      "text/plain": [
       "\n"
      ]
     },
     "metadata": {},
     "output_type": "display_data"
    }
   ],
   "source": [
    "import time\n",
    "\n",
    "from rich.progress import Progress\n",
    "\n",
    "with Progress() as progress:\n",
    "\n",
    "    task1 = progress.add_task(\"[red]Reading file...\", total=100)\n",
    "    task2 = progress.add_task(\"[green]Exporting file...\", total=100)\n",
    "    task3 = progress.add_task(\"[cyan]Presenting file...\", total=100)\n",
    "\n",
    "    while not progress.finished:\n",
    "        progress.update(task1, advance=0.9)\n",
    "        progress.update(task2, advance=0.6)\n",
    "        progress.update(task3, advance=0.3)\n",
    "        time.sleep(0.02)"
   ]
  },
  {
   "cell_type": "code",
   "execution_count": 16,
   "metadata": {},
   "outputs": [
    {
     "data": {
      "text/html": [
       "<pre style=\"white-space:pre;overflow-x:auto;line-height:normal;font-family:Menlo,'DejaVu Sans Mono',consolas,'Courier New',monospace\">╭─────────────────╮ ╭────────────────────╮ ╭─────────────────╮ ╭────────────────────╮ ╭──────────────────╮\n",
       "│ <span style=\"font-weight: bold\">Philip Colin</span>    │ │ <span style=\"font-weight: bold\">Mariana Chevalier</span>  │ │ <span style=\"font-weight: bold\">Iina Lassila</span>    │ │ <span style=\"font-weight: bold\">Alma Sims</span>          │ │ <span style=\"font-weight: bold\">Daniela Fonseca</span>  │\n",
       "│ <span style=\"color: #808000; text-decoration-color: #808000\">Switzerland</span>     │ │ <span style=\"color: #808000; text-decoration-color: #808000\">Switzerland</span>        │ │ <span style=\"color: #808000; text-decoration-color: #808000\">Finland</span>         │ │ <span style=\"color: #808000; text-decoration-color: #808000\">Australia</span>          │ │ <span style=\"color: #808000; text-decoration-color: #808000\">Mexico</span>           │\n",
       "╰─────────────────╯ ╰────────────────────╯ ╰─────────────────╯ ╰────────────────────╯ ╰──────────────────╯\n",
       "╭─────────────────╮ ╭────────────────────╮ ╭─────────────────╮ ╭────────────────────╮ ╭──────────────────╮\n",
       "│ <span style=\"font-weight: bold\">Justin Mccoy</span>    │ │ <span style=\"font-weight: bold\">محمد پارسا</span>         │ │ <span style=\"font-weight: bold\">Andrew Rhodes</span>   │ │ <span style=\"font-weight: bold\">Sam Powell</span>         │ │ <span style=\"font-weight: bold\">Isac Herigstad</span>   │\n",
       "│ <span style=\"color: #808000; text-decoration-color: #808000\">United States</span>   │ │ <span style=\"color: #808000; text-decoration-color: #808000\">Iran</span>               │ │ <span style=\"color: #808000; text-decoration-color: #808000\">Ireland</span>         │ │ <span style=\"color: #808000; text-decoration-color: #808000\">United Kingdom</span>     │ │ <span style=\"color: #808000; text-decoration-color: #808000\">Norway</span>           │\n",
       "╰─────────────────╯ ╰────────────────────╯ ╰─────────────────╯ ╰────────────────────╯ ╰──────────────────╯\n",
       "╭─────────────────╮ ╭────────────────────╮ ╭─────────────────╮ ╭────────────────────╮ ╭──────────────────╮\n",
       "│ <span style=\"font-weight: bold\">Kenzo Barbier</span>   │ │ <span style=\"font-weight: bold\">Bronislava Yakubec</span> │ │ <span style=\"font-weight: bold\">Zoe Perry</span>       │ │ <span style=\"font-weight: bold\">Louis Taylor</span>       │ │ <span style=\"font-weight: bold\">Mathias Da Silva</span> │\n",
       "│ <span style=\"color: #808000; text-decoration-color: #808000\">France</span>          │ │ <span style=\"color: #808000; text-decoration-color: #808000\">Ukraine</span>            │ │ <span style=\"color: #808000; text-decoration-color: #808000\">United Kingdom</span>  │ │ <span style=\"color: #808000; text-decoration-color: #808000\">Australia</span>          │ │ <span style=\"color: #808000; text-decoration-color: #808000\">France</span>           │\n",
       "╰─────────────────╯ ╰────────────────────╯ ╰─────────────────╯ ╰────────────────────╯ ╰──────────────────╯\n",
       "╭─────────────────╮ ╭────────────────────╮ ╭─────────────────╮ ╭────────────────────╮ ╭──────────────────╮\n",
       "│ <span style=\"font-weight: bold\">Milja Lepisto</span>   │ │ <span style=\"font-weight: bold\">Omar Pinto</span>         │ │ <span style=\"font-weight: bold\">Milica Teodosić</span> │ │ <span style=\"font-weight: bold\">Friedemann Nitsche</span> │ │ <span style=\"font-weight: bold\">Luukas Latt</span>      │\n",
       "│ <span style=\"color: #808000; text-decoration-color: #808000\">Finland</span>         │ │ <span style=\"color: #808000; text-decoration-color: #808000\">Brazil</span>             │ │ <span style=\"color: #808000; text-decoration-color: #808000\">Serbia</span>          │ │ <span style=\"color: #808000; text-decoration-color: #808000\">Germany</span>            │ │ <span style=\"color: #808000; text-decoration-color: #808000\">Finland</span>          │\n",
       "╰─────────────────╯ ╰────────────────────╯ ╰─────────────────╯ ╰────────────────────╯ ╰──────────────────╯\n",
       "╭─────────────────╮ ╭────────────────────╮ ╭─────────────────╮ ╭────────────────────╮ ╭──────────────────╮\n",
       "│ <span style=\"font-weight: bold\">Ilija Stojković</span> │ │ <span style=\"font-weight: bold\">Melina Katanić</span>     │ │ <span style=\"font-weight: bold\">Prodan Pantić</span>   │ │ <span style=\"font-weight: bold\">Sénio Araújo</span>       │ │ <span style=\"font-weight: bold\">Harry Chen</span>       │\n",
       "│ <span style=\"color: #808000; text-decoration-color: #808000\">Serbia</span>          │ │ <span style=\"color: #808000; text-decoration-color: #808000\">Serbia</span>             │ │ <span style=\"color: #808000; text-decoration-color: #808000\">Serbia</span>          │ │ <span style=\"color: #808000; text-decoration-color: #808000\">Brazil</span>             │ │ <span style=\"color: #808000; text-decoration-color: #808000\">New Zealand</span>      │\n",
       "╰─────────────────╯ ╰────────────────────╯ ╰─────────────────╯ ╰────────────────────╯ ╰──────────────────╯\n",
       "╭─────────────────╮ ╭────────────────────╮ ╭─────────────────╮ ╭────────────────────╮ ╭──────────────────╮\n",
       "│ <span style=\"font-weight: bold\">Emma Slawa</span>      │ │ <span style=\"font-weight: bold\">Jake Kumar</span>         │ │ <span style=\"font-weight: bold\">Alisa Vintonyak</span> │ │ <span style=\"font-weight: bold\">Shwetha Salian</span>     │ │ <span style=\"font-weight: bold\">Ellen Jutila</span>     │\n",
       "│ <span style=\"color: #808000; text-decoration-color: #808000\">Canada</span>          │ │ <span style=\"color: #808000; text-decoration-color: #808000\">New Zealand</span>        │ │ <span style=\"color: #808000; text-decoration-color: #808000\">Ukraine</span>         │ │ <span style=\"color: #808000; text-decoration-color: #808000\">India</span>              │ │ <span style=\"color: #808000; text-decoration-color: #808000\">Finland</span>          │\n",
       "╰─────────────────╯ ╰────────────────────╯ ╰─────────────────╯ ╰────────────────────╯ ╰──────────────────╯\n",
       "</pre>\n"
      ],
      "text/plain": [
       "╭─────────────────╮ ╭────────────────────╮ ╭─────────────────╮ ╭────────────────────╮ ╭──────────────────╮\n",
       "│ \u001b[1mPhilip Colin\u001b[0m    │ │ \u001b[1mMariana Chevalier\u001b[0m  │ │ \u001b[1mIina Lassila\u001b[0m    │ │ \u001b[1mAlma Sims\u001b[0m          │ │ \u001b[1mDaniela Fonseca\u001b[0m  │\n",
       "│ \u001b[33mSwitzerland\u001b[0m     │ │ \u001b[33mSwitzerland\u001b[0m        │ │ \u001b[33mFinland\u001b[0m         │ │ \u001b[33mAustralia\u001b[0m          │ │ \u001b[33mMexico\u001b[0m           │\n",
       "╰─────────────────╯ ╰────────────────────╯ ╰─────────────────╯ ╰────────────────────╯ ╰──────────────────╯\n",
       "╭─────────────────╮ ╭────────────────────╮ ╭─────────────────╮ ╭────────────────────╮ ╭──────────────────╮\n",
       "│ \u001b[1mJustin Mccoy\u001b[0m    │ │ \u001b[1mمحمد پارسا\u001b[0m         │ │ \u001b[1mAndrew Rhodes\u001b[0m   │ │ \u001b[1mSam Powell\u001b[0m         │ │ \u001b[1mIsac Herigstad\u001b[0m   │\n",
       "│ \u001b[33mUnited States\u001b[0m   │ │ \u001b[33mIran\u001b[0m               │ │ \u001b[33mIreland\u001b[0m         │ │ \u001b[33mUnited Kingdom\u001b[0m     │ │ \u001b[33mNorway\u001b[0m           │\n",
       "╰─────────────────╯ ╰────────────────────╯ ╰─────────────────╯ ╰────────────────────╯ ╰──────────────────╯\n",
       "╭─────────────────╮ ╭────────────────────╮ ╭─────────────────╮ ╭────────────────────╮ ╭──────────────────╮\n",
       "│ \u001b[1mKenzo Barbier\u001b[0m   │ │ \u001b[1mBronislava Yakubec\u001b[0m │ │ \u001b[1mZoe Perry\u001b[0m       │ │ \u001b[1mLouis Taylor\u001b[0m       │ │ \u001b[1mMathias Da Silva\u001b[0m │\n",
       "│ \u001b[33mFrance\u001b[0m          │ │ \u001b[33mUkraine\u001b[0m            │ │ \u001b[33mUnited Kingdom\u001b[0m  │ │ \u001b[33mAustralia\u001b[0m          │ │ \u001b[33mFrance\u001b[0m           │\n",
       "╰─────────────────╯ ╰────────────────────╯ ╰─────────────────╯ ╰────────────────────╯ ╰──────────────────╯\n",
       "╭─────────────────╮ ╭────────────────────╮ ╭─────────────────╮ ╭────────────────────╮ ╭──────────────────╮\n",
       "│ \u001b[1mMilja Lepisto\u001b[0m   │ │ \u001b[1mOmar Pinto\u001b[0m         │ │ \u001b[1mMilica Teodosić\u001b[0m │ │ \u001b[1mFriedemann Nitsche\u001b[0m │ │ \u001b[1mLuukas Latt\u001b[0m      │\n",
       "│ \u001b[33mFinland\u001b[0m         │ │ \u001b[33mBrazil\u001b[0m             │ │ \u001b[33mSerbia\u001b[0m          │ │ \u001b[33mGermany\u001b[0m            │ │ \u001b[33mFinland\u001b[0m          │\n",
       "╰─────────────────╯ ╰────────────────────╯ ╰─────────────────╯ ╰────────────────────╯ ╰──────────────────╯\n",
       "╭─────────────────╮ ╭────────────────────╮ ╭─────────────────╮ ╭────────────────────╮ ╭──────────────────╮\n",
       "│ \u001b[1mIlija Stojković\u001b[0m │ │ \u001b[1mMelina Katanić\u001b[0m     │ │ \u001b[1mProdan Pantić\u001b[0m   │ │ \u001b[1mSénio Araújo\u001b[0m       │ │ \u001b[1mHarry Chen\u001b[0m       │\n",
       "│ \u001b[33mSerbia\u001b[0m          │ │ \u001b[33mSerbia\u001b[0m             │ │ \u001b[33mSerbia\u001b[0m          │ │ \u001b[33mBrazil\u001b[0m             │ │ \u001b[33mNew Zealand\u001b[0m      │\n",
       "╰─────────────────╯ ╰────────────────────╯ ╰─────────────────╯ ╰────────────────────╯ ╰──────────────────╯\n",
       "╭─────────────────╮ ╭────────────────────╮ ╭─────────────────╮ ╭────────────────────╮ ╭──────────────────╮\n",
       "│ \u001b[1mEmma Slawa\u001b[0m      │ │ \u001b[1mJake Kumar\u001b[0m         │ │ \u001b[1mAlisa Vintonyak\u001b[0m │ │ \u001b[1mShwetha Salian\u001b[0m     │ │ \u001b[1mEllen Jutila\u001b[0m     │\n",
       "│ \u001b[33mCanada\u001b[0m          │ │ \u001b[33mNew Zealand\u001b[0m        │ │ \u001b[33mUkraine\u001b[0m         │ │ \u001b[33mIndia\u001b[0m              │ │ \u001b[33mFinland\u001b[0m          │\n",
       "╰─────────────────╯ ╰────────────────────╯ ╰─────────────────╯ ╰────────────────────╯ ╰──────────────────╯\n"
      ]
     },
     "metadata": {},
     "output_type": "display_data"
    }
   ],
   "source": [
    "import json\n",
    "from urllib.request import urlopen\n",
    "\n",
    "from rich.console import Console\n",
    "from rich.columns import Columns\n",
    "from rich.panel import Panel\n",
    "\n",
    "\n",
    "def get_content(user):\n",
    "    \"\"\"Extract text from user dict.\"\"\"\n",
    "    country = user[\"location\"][\"country\"]\n",
    "    name = f\"{user['name']['first']} {user['name']['last']}\"\n",
    "    return f\"[b]{name}[/b]\\n[yellow]{country}\"\n",
    "\n",
    "\n",
    "console = Console()\n",
    "\n",
    "\n",
    "users = json.loads(urlopen(\"https://randomuser.me/api/?results=30\").read())[\"results\"]\n",
    "user_renderables = [Panel(get_content(user), expand=True) for user in users]\n",
    "console.print(Columns(user_renderables))"
   ]
  },
  {
   "cell_type": "code",
   "execution_count": 17,
   "metadata": {},
   "outputs": [
    {
     "data": {
      "text/html": [
       "<pre style=\"white-space:pre;overflow-x:auto;line-height:normal;font-family:Menlo,'DejaVu Sans Mono',consolas,'Courier New',monospace\"><span style=\"font-style: italic\">           Todo List           </span>\n",
       "┏━━━━━━━━┳━━━━━━━━━━━┳━━━━━━━━┓\n",
       "┃<span style=\"font-weight: bold\"> S. No. </span>┃<span style=\"font-weight: bold\"> Task      </span>┃<span style=\"font-weight: bold\"> Status </span>┃\n",
       "┡━━━━━━━━╇━━━━━━━━━━━╇━━━━━━━━┩\n",
       "│<span style=\"color: #008080; text-decoration-color: #008080\"> 1      </span>│<span style=\"color: #800080; text-decoration-color: #800080\"> Buy Milk  </span>│<span style=\"color: #008000; text-decoration-color: #008000\">     ✅ </span>│\n",
       "│<span style=\"color: #008080; text-decoration-color: #008080\"> 2      </span>│<span style=\"color: #800080; text-decoration-color: #800080\"> Buy Bread </span>│<span style=\"color: #008000; text-decoration-color: #008000\">     ✅ </span>│\n",
       "│<span style=\"color: #008080; text-decoration-color: #008080\"> 3      </span>│<span style=\"color: #800080; text-decoration-color: #800080\"> Buy Jam   </span>│<span style=\"color: #008000; text-decoration-color: #008000\">     ❌ </span>│\n",
       "└────────┴───────────┴────────┘\n",
       "</pre>\n"
      ],
      "text/plain": [
       "\u001b[3m           Todo List           \u001b[0m\n",
       "┏━━━━━━━━┳━━━━━━━━━━━┳━━━━━━━━┓\n",
       "┃\u001b[1m \u001b[0m\u001b[1mS. No.\u001b[0m\u001b[1m \u001b[0m┃\u001b[1m \u001b[0m\u001b[1mTask     \u001b[0m\u001b[1m \u001b[0m┃\u001b[1m \u001b[0m\u001b[1mStatus\u001b[0m\u001b[1m \u001b[0m┃\n",
       "┡━━━━━━━━╇━━━━━━━━━━━╇━━━━━━━━┩\n",
       "│\u001b[36m \u001b[0m\u001b[36m1     \u001b[0m\u001b[36m \u001b[0m│\u001b[35m \u001b[0m\u001b[35mBuy Milk \u001b[0m\u001b[35m \u001b[0m│\u001b[32m \u001b[0m\u001b[32m    ✅\u001b[0m\u001b[32m \u001b[0m│\n",
       "│\u001b[36m \u001b[0m\u001b[36m2     \u001b[0m\u001b[36m \u001b[0m│\u001b[35m \u001b[0m\u001b[35mBuy Bread\u001b[0m\u001b[35m \u001b[0m│\u001b[32m \u001b[0m\u001b[32m    ✅\u001b[0m\u001b[32m \u001b[0m│\n",
       "│\u001b[36m \u001b[0m\u001b[36m3     \u001b[0m\u001b[36m \u001b[0m│\u001b[35m \u001b[0m\u001b[35mBuy Jam  \u001b[0m\u001b[35m \u001b[0m│\u001b[32m \u001b[0m\u001b[32m    ❌\u001b[0m\u001b[32m \u001b[0m│\n",
       "└────────┴───────────┴────────┘\n"
      ]
     },
     "metadata": {},
     "output_type": "display_data"
    }
   ],
   "source": [
    "from rich.console import Console\n",
    "from rich.table import Table\n",
    "\n",
    "table = Table(title=\"Todo List\")\n",
    "\n",
    "table.add_column(\"S. No.\", style=\"cyan\", no_wrap=True)\n",
    "table.add_column(\"Task\", style=\"magenta\")\n",
    "table.add_column(\"Status\", justify=\"right\", style=\"green\")\n",
    "\n",
    "table.add_row(\"1\", \"Buy Milk\", \"✅\")\n",
    "table.add_row(\"2\", \"Buy Bread\", \"✅\")\n",
    "table.add_row(\"3\", \"Buy Jam\", \"❌\")\n",
    "\n",
    "console = Console()\n",
    "console.print(table)"
   ]
  },
  {
   "cell_type": "code",
   "execution_count": 87,
   "metadata": {},
   "outputs": [
    {
     "data": {
      "text/html": [
       "<pre style=\"white-space:pre;overflow-x:auto;line-height:normal;font-family:Menlo,'DejaVu Sans Mono',consolas,'Courier New',monospace\">Result of Cmnd_Alias is:        \n",
       "</pre>\n"
      ],
      "text/plain": [
       "Result of Cmnd_Alias is:        \n"
      ]
     },
     "metadata": {},
     "output_type": "display_data"
    },
    {
     "data": {
      "text/html": [
       "<pre style=\"white-space:pre;overflow-x:auto;line-height:normal;font-family:Menlo,'DejaVu Sans Mono',consolas,'Courier New',monospace\"><span style=\"color: #008080; text-decoration-color: #008080; font-weight: bold\">3</span>\n",
       "</pre>\n"
      ],
      "text/plain": [
       "\u001b[1;36m3\u001b[0m\n"
      ]
     },
     "metadata": {},
     "output_type": "display_data"
    },
    {
     "data": {
      "text/html": [
       "<pre style=\"white-space:pre;overflow-x:auto;line-height:normal;font-family:Menlo,'DejaVu Sans Mono',consolas,'Courier New',monospace\"><span style=\"color: #008080; text-decoration-color: #008080; font-weight: bold\">2</span>\n",
       "</pre>\n"
      ],
      "text/plain": [
       "\u001b[1;36m2\u001b[0m\n"
      ]
     },
     "metadata": {},
     "output_type": "display_data"
    },
    {
     "data": {
      "text/html": [
       "<pre style=\"white-space:pre;overflow-x:auto;line-height:normal;font-family:Menlo,'DejaVu Sans Mono',consolas,'Courier New',monospace\">!!!!!!! oracle_cmds \n",
       "</pre>\n"
      ],
      "text/plain": [
       "!!!!!!! oracle_cmds \n"
      ]
     },
     "metadata": {},
     "output_type": "display_data"
    },
    {
     "data": {
      "text/html": [
       "<pre style=\"white-space:pre;overflow-x:auto;line-height:normal;font-family:Menlo,'DejaVu Sans Mono',consolas,'Courier New',monospace\">!!!!!!! <span style=\"color: #800080; text-decoration-color: #800080\">/bin/share/</span><span style=\"color: #ff00ff; text-decoration-color: #ff00ff\">oracle1</span>, <span style=\"color: #800080; text-decoration-color: #800080\">/bin/share/</span><span style=\"color: #ff00ff; text-decoration-color: #ff00ff\">oracle2</span>\n",
       "</pre>\n"
      ],
      "text/plain": [
       "!!!!!!! \u001b[35m/bin/share/\u001b[0m\u001b[95moracle1\u001b[0m, \u001b[35m/bin/share/\u001b[0m\u001b[95moracle2\u001b[0m\n"
      ]
     },
     "metadata": {},
     "output_type": "display_data"
    },
    {
     "data": {
      "text/html": [
       "<pre style=\"white-space:pre;overflow-x:auto;line-height:normal;font-family:Menlo,'DejaVu Sans Mono',consolas,'Courier New',monospace\"><span style=\"color: #008080; text-decoration-color: #008080; font-weight: bold\">2</span>\n",
       "</pre>\n"
      ],
      "text/plain": [
       "\u001b[1;36m2\u001b[0m\n"
      ]
     },
     "metadata": {},
     "output_type": "display_data"
    },
    {
     "data": {
      "text/html": [
       "<pre style=\"white-space:pre;overflow-x:auto;line-height:normal;font-family:Menlo,'DejaVu Sans Mono',consolas,'Courier New',monospace\">!!!!!!! mysql_cmds \n",
       "</pre>\n"
      ],
      "text/plain": [
       "!!!!!!! mysql_cmds \n"
      ]
     },
     "metadata": {},
     "output_type": "display_data"
    },
    {
     "data": {
      "text/html": [
       "<pre style=\"white-space:pre;overflow-x:auto;line-height:normal;font-family:Menlo,'DejaVu Sans Mono',consolas,'Courier New',monospace\">!!!!!!! <span style=\"color: #800080; text-decoration-color: #800080\">/bin/share/</span><span style=\"color: #ff00ff; text-decoration-color: #ff00ff\">mysql1</span>, <span style=\"color: #800080; text-decoration-color: #800080\">/bin/share/</span><span style=\"color: #ff00ff; text-decoration-color: #ff00ff\">mysql2</span>\n",
       "</pre>\n"
      ],
      "text/plain": [
       "!!!!!!! \u001b[35m/bin/share/\u001b[0m\u001b[95mmysql1\u001b[0m, \u001b[35m/bin/share/\u001b[0m\u001b[95mmysql2\u001b[0m\n"
      ]
     },
     "metadata": {},
     "output_type": "display_data"
    },
    {
     "data": {
      "text/html": [
       "<pre style=\"white-space:pre;overflow-x:auto;line-height:normal;font-family:Menlo,'DejaVu Sans Mono',consolas,'Courier New',monospace\"><span style=\"color: #008080; text-decoration-color: #008080; font-weight: bold\">2</span>\n",
       "</pre>\n"
      ],
      "text/plain": [
       "\u001b[1;36m2\u001b[0m\n"
      ]
     },
     "metadata": {},
     "output_type": "display_data"
    },
    {
     "data": {
      "text/html": [
       "<pre style=\"white-space:pre;overflow-x:auto;line-height:normal;font-family:Menlo,'DejaVu Sans Mono',consolas,'Courier New',monospace\">!!!!!!! db2_cmds \n",
       "</pre>\n"
      ],
      "text/plain": [
       "!!!!!!! db2_cmds \n"
      ]
     },
     "metadata": {},
     "output_type": "display_data"
    },
    {
     "data": {
      "text/html": [
       "<pre style=\"white-space:pre;overflow-x:auto;line-height:normal;font-family:Menlo,'DejaVu Sans Mono',consolas,'Courier New',monospace\">!!!!!!! <span style=\"color: #800080; text-decoration-color: #800080\">/bin/share/</span><span style=\"color: #ff00ff; text-decoration-color: #ff00ff\">db21</span>, <span style=\"color: #800080; text-decoration-color: #800080\">/bin/share/</span><span style=\"color: #ff00ff; text-decoration-color: #ff00ff\">db22</span>\n",
       "</pre>\n"
      ],
      "text/plain": [
       "!!!!!!! \u001b[35m/bin/share/\u001b[0m\u001b[95mdb21\u001b[0m, \u001b[35m/bin/share/\u001b[0m\u001b[95mdb22\u001b[0m\n"
      ]
     },
     "metadata": {},
     "output_type": "display_data"
    }
   ],
   "source": [
    "archivo = Find_Alias(\"Cmnd_Alias\")\n",
    "print(f\"Result of Cmnd_Alias is: \\t\")\n",
    "#print(type(archivo))\n",
    "print(len(archivo))\n",
    "for arch in archivo:\n",
    "    #print(type(arch))\n",
    "    print(len(arch))\n",
    "    print(\"!!!!!!!\"+arch[0])\n",
    "    print(\"!!!!!!!\"+arch[1])\n",
    "    '''for row in arch:\n",
    "        print(type(row))\n",
    "        print(row)'''"
   ]
  },
  {
   "cell_type": "code",
   "execution_count": 96,
   "metadata": {},
   "outputs": [],
   "source": [
    "def print_Table(alias_list,alias):\n",
    "    table = Table(title=alias)\n",
    "    table.add_column(\"Alias\", style=\"\", no_wrap=True, justify=\"center\")\n",
    "    table.add_column(\"Definition\", style=\"green\", justify=\"center\")\n",
    "    for i in alias_list:\n",
    "        table.add_row(i[0],i[1])\n",
    "    console.print(table)\n"
   ]
  },
  {
   "cell_type": "code",
   "execution_count": 145,
   "metadata": {},
   "outputs": [
    {
     "data": {
      "text/html": [
       "<pre style=\"white-space:pre;overflow-x:auto;line-height:normal;font-family:Menlo,'DejaVu Sans Mono',consolas,'Courier New',monospace\"><span style=\"font-style: italic\">          User_Alias           </span>\n",
       "┏━━━━━━━━━━━━━━━┳━━━━━━━━━━━━━┓\n",
       "┃<span style=\"font-weight: bold\">     Alias     </span>┃<span style=\"font-weight: bold\"> Definition  </span>┃\n",
       "┡━━━━━━━━━━━━━━━╇━━━━━━━━━━━━━┩\n",
       "│  oracle_user  │<span style=\"color: #008000; text-decoration-color: #008000\">  osa1, osa2 </span>│\n",
       "│  mysql_users  │<span style=\"color: #008000; text-decoration-color: #008000\">  osa3, osa4 </span>│\n",
       "│   db2_users   │<span style=\"color: #008000; text-decoration-color: #008000\">  osa5, osa6 </span>│\n",
       "└───────────────┴─────────────┘\n",
       "</pre>\n"
      ],
      "text/plain": [
       "\u001b[3m          User_Alias           \u001b[0m\n",
       "┏━━━━━━━━━━━━━━━┳━━━━━━━━━━━━━┓\n",
       "┃\u001b[1m \u001b[0m\u001b[1m    Alias    \u001b[0m\u001b[1m \u001b[0m┃\u001b[1m \u001b[0m\u001b[1mDefinition \u001b[0m\u001b[1m \u001b[0m┃\n",
       "┡━━━━━━━━━━━━━━━╇━━━━━━━━━━━━━┩\n",
       "│  oracle_user  │\u001b[32m \u001b[0m\u001b[32m osa1, osa2\u001b[0m\u001b[32m \u001b[0m│\n",
       "│  mysql_users  │\u001b[32m \u001b[0m\u001b[32m osa3, osa4\u001b[0m\u001b[32m \u001b[0m│\n",
       "│   db2_users   │\u001b[32m \u001b[0m\u001b[32m osa5, osa6\u001b[0m\u001b[32m \u001b[0m│\n",
       "└───────────────┴─────────────┘\n"
      ]
     },
     "metadata": {},
     "output_type": "display_data"
    }
   ],
   "source": [
    "#listini = [' oracle_cmds ', ' /bin/share/oracle1, /bin/share/oracle2']\n",
    "archivo = Find_Alias(\"User_Alias\")\n",
    "print_Table(archivo,\"User_Alias\")"
   ]
  },
  {
   "cell_type": "code",
   "execution_count": 105,
   "metadata": {},
   "outputs": [
    {
     "data": {
      "text/html": [
       "<pre style=\"white-space:pre;overflow-x:auto;line-height:normal;font-family:Menlo,'DejaVu Sans Mono',consolas,'Courier New',monospace\"><span style=\"font-weight: bold\">&lt;</span><span style=\"color: #ff00ff; text-decoration-color: #ff00ff; font-weight: bold\">class</span><span style=\"color: #000000; text-decoration-color: #000000\"> </span><span style=\"color: #008000; text-decoration-color: #008000\">'list'</span><span style=\"font-weight: bold\">&gt;</span>\n",
       "</pre>\n"
      ],
      "text/plain": [
       "\u001b[1m<\u001b[0m\u001b[1;95mclass\u001b[0m\u001b[39m \u001b[0m\u001b[32m'list'\u001b[0m\u001b[1m>\u001b[0m\n"
      ]
     },
     "metadata": {},
     "output_type": "display_data"
    },
    {
     "data": {
      "application/vnd.jupyter.widget-view+json": {
       "model_id": "15b7ab61c37a438cbe7122c656622868",
       "version_major": 2,
       "version_minor": 0
      },
      "text/plain": [
       "Output()"
      ]
     },
     "metadata": {},
     "output_type": "display_data"
    },
    {
     "data": {
      "text/html": [
       "<pre style=\"white-space:pre;overflow-x:auto;line-height:normal;font-family:Menlo,'DejaVu Sans Mono',consolas,'Courier New',monospace\"></pre>\n"
      ],
      "text/plain": []
     },
     "metadata": {},
     "output_type": "display_data"
    },
    {
     "data": {
      "text/html": [
       "<pre style=\"white-space:pre;overflow-x:auto;line-height:normal;font-family:Menlo,'DejaVu Sans Mono',consolas,'Courier New',monospace\">\n",
       "</pre>\n"
      ],
      "text/plain": [
       "\n"
      ]
     },
     "metadata": {},
     "output_type": "display_data"
    }
   ],
   "source": [
    "import time\n",
    "import random\n",
    "from rich.progress import (\n",
    "    BarColumn,\n",
    "    Progress,\n",
    "    SpinnerColumn,\n",
    "    TaskProgressColumn,\n",
    "    TimeElapsedColumn,\n",
    "    TimeRemainingColumn,\n",
    ")\n",
    "\n",
    "def process(chunks):\n",
    "    for chunk in chunks:\n",
    "        time.sleep(0.1)\n",
    "        yield chunk\n",
    "\n",
    "chunks = [random.randint(1,20) for _ in range(100)]\n",
    "print(type(chunks))\n",
    "progress_columns = (\n",
    "    SpinnerColumn(),\n",
    "    \"[progress.description]{task.description}\",\n",
    "    BarColumn(),\n",
    "    TaskProgressColumn(),\n",
    "    \"Elapsed:\",\n",
    "    TimeElapsedColumn(),\n",
    "    \"Remaining:\",\n",
    "    TimeRemainingColumn(),\n",
    ")\n",
    "\n",
    "with Progress(*progress_columns) as progress_bar:\n",
    "    task = progress_bar.add_task(\"[blue]Downloading...\", total=sum(chunks))\n",
    "    for chunk in process(chunks):\n",
    "        progress_bar.update(task, advance=chunk)"
   ]
  },
  {
   "cell_type": "code",
   "execution_count": 112,
   "metadata": {},
   "outputs": [
    {
     "data": {
      "application/vnd.jupyter.widget-view+json": {
       "model_id": "65548e99a93342da889a9056712b7629",
       "version_major": 2,
       "version_minor": 0
      },
      "text/plain": [
       "Output()"
      ]
     },
     "metadata": {},
     "output_type": "display_data"
    },
    {
     "data": {
      "text/html": [
       "<pre style=\"white-space:pre;overflow-x:auto;line-height:normal;font-family:Menlo,'DejaVu Sans Mono',consolas,'Courier New',monospace\"></pre>\n"
      ],
      "text/plain": []
     },
     "metadata": {},
     "output_type": "display_data"
    },
    {
     "data": {
      "text/html": [
       "<pre style=\"white-space:pre;overflow-x:auto;line-height:normal;font-family:Menlo,'DejaVu Sans Mono',consolas,'Courier New',monospace\">\n",
       "</pre>\n"
      ],
      "text/plain": [
       "\n"
      ]
     },
     "metadata": {},
     "output_type": "display_data"
    }
   ],
   "source": [
    "import time\n",
    "from rich.progress import track\n",
    "\n",
    "for i in track(range(100)):\n",
    "    archivo = Find_Alias(\"User_Alias\")\n",
    "    #print_Table(archivo,\"User_Alias\")"
   ]
  },
  {
   "cell_type": "code",
   "execution_count": 140,
   "metadata": {},
   "outputs": [],
   "source": [
    "def Finder(alias):\n",
    "    #funtions that retrieves aliases on list format\n",
    "    with Progress() as progress:\n",
    "    \n",
    "        aliases = []\n",
    "        archivo_len = 0\n",
    "        \n",
    "        if alias == 'User_Alias':\n",
    "            pattern = re.compile(r'(?<=User_Alias).*$')\n",
    "        elif alias == 'Host_Alias':\n",
    "            pattern = re.compile(r'(?<=Host_Alias).*$')\n",
    "        else:\n",
    "            pattern = re.compile(r'(?<=Cmnd_Alias).*$')\n",
    "    \n",
    "        with open('test_sudo_file','r') as file:\n",
    "            content = file.readlines()\n",
    "            archivo_len = len(content)\n",
    "            avance = (1/100)*archivo_len\n",
    "            task1 = progress.add_task(\"[red]Reading file...\", total=archivo_len)\n",
    "\n",
    "            while not progress.finished:\n",
    "\n",
    "                for line in content:\n",
    "                    progress.update(task1, advance=avance)\n",
    "                    time.sleep(0.02)\n",
    "                    matches = pattern.finditer(line)\n",
    "                    for m in matches:\n",
    "                        aliases.append(m.group().split('='))\n",
    "    return aliases"
   ]
  },
  {
   "cell_type": "code",
   "execution_count": 118,
   "metadata": {},
   "outputs": [
    {
     "data": {
      "application/vnd.jupyter.widget-view+json": {
       "model_id": "b0e2d6e982244149b820e2e180eb73d9",
       "version_major": 2,
       "version_minor": 0
      },
      "text/plain": [
       "Output()"
      ]
     },
     "metadata": {},
     "output_type": "display_data"
    },
    {
     "data": {
      "text/html": [
       "<pre style=\"white-space:pre;overflow-x:auto;line-height:normal;font-family:Menlo,'DejaVu Sans Mono',consolas,'Courier New',monospace\"></pre>\n"
      ],
      "text/plain": []
     },
     "metadata": {},
     "output_type": "display_data"
    },
    {
     "data": {
      "text/html": [
       "<pre style=\"white-space:pre;overflow-x:auto;line-height:normal;font-family:Menlo,'DejaVu Sans Mono',consolas,'Courier New',monospace\">\n",
       "</pre>\n"
      ],
      "text/plain": [
       "\n"
      ]
     },
     "metadata": {},
     "output_type": "display_data"
    }
   ],
   "source": [
    "import time\n",
    "\n",
    "from rich.progress import Progress\n",
    "\n",
    "with Progress() as progress:\n",
    "\n",
    "    task1 = progress.add_task(\"[red]Reading file...\", total=100)\n",
    "    task2 = progress.add_task(\"[green]Exporting file...\", total=100)\n",
    "    task3 = progress.add_task(\"[cyan]Presenting file...\", total=100)\n",
    "\n",
    "    while not progress.finished:\n",
    "        progress.update(task1, advance=2)\n",
    "        progress.update(task2, advance=0.6)\n",
    "        progress.update(task3, advance=0.3)\n",
    "        time.sleep(0.02)"
   ]
  },
  {
   "cell_type": "code",
   "execution_count": 142,
   "metadata": {},
   "outputs": [
    {
     "data": {
      "application/vnd.jupyter.widget-view+json": {
       "model_id": "ca205023e7c645f3b440ef2c4c80e7b9",
       "version_major": 2,
       "version_minor": 0
      },
      "text/plain": [
       "Output()"
      ]
     },
     "metadata": {},
     "output_type": "display_data"
    },
    {
     "data": {
      "text/html": [
       "<pre style=\"white-space:pre;overflow-x:auto;line-height:normal;font-family:Menlo,'DejaVu Sans Mono',consolas,'Courier New',monospace\"></pre>\n"
      ],
      "text/plain": []
     },
     "metadata": {},
     "output_type": "display_data"
    },
    {
     "data": {
      "text/html": [
       "<pre style=\"white-space:pre;overflow-x:auto;line-height:normal;font-family:Menlo,'DejaVu Sans Mono',consolas,'Courier New',monospace\">\n",
       "</pre>\n"
      ],
      "text/plain": [
       "\n"
      ]
     },
     "metadata": {},
     "output_type": "display_data"
    },
    {
     "data": {
      "text/html": [
       "<pre style=\"white-space:pre;overflow-x:auto;line-height:normal;font-family:Menlo,'DejaVu Sans Mono',consolas,'Courier New',monospace\">Result of Cmnd_Alias is:        \n",
       "</pre>\n"
      ],
      "text/plain": [
       "Result of Cmnd_Alias is:        \n"
      ]
     },
     "metadata": {},
     "output_type": "display_data"
    },
    {
     "data": {
      "text/html": [
       "<pre style=\"white-space:pre;overflow-x:auto;line-height:normal;font-family:Menlo,'DejaVu Sans Mono',consolas,'Courier New',monospace\"><span style=\"font-weight: bold\">[</span><span style=\"color: #008000; text-decoration-color: #008000\">' oracle_servers '</span>, <span style=\"color: #008000; text-decoration-color: #008000\">' server1, server2'</span><span style=\"font-weight: bold\">]</span>\n",
       "</pre>\n"
      ],
      "text/plain": [
       "\u001b[1m[\u001b[0m\u001b[32m' oracle_servers '\u001b[0m, \u001b[32m' server1, server2'\u001b[0m\u001b[1m]\u001b[0m\n"
      ]
     },
     "metadata": {},
     "output_type": "display_data"
    },
    {
     "data": {
      "text/html": [
       "<pre style=\"white-space:pre;overflow-x:auto;line-height:normal;font-family:Menlo,'DejaVu Sans Mono',consolas,'Courier New',monospace\"><span style=\"font-weight: bold\">[</span><span style=\"color: #008000; text-decoration-color: #008000\">' mysql_servers '</span>, <span style=\"color: #008000; text-decoration-color: #008000\">' server3, server4'</span><span style=\"font-weight: bold\">]</span>\n",
       "</pre>\n"
      ],
      "text/plain": [
       "\u001b[1m[\u001b[0m\u001b[32m' mysql_servers '\u001b[0m, \u001b[32m' server3, server4'\u001b[0m\u001b[1m]\u001b[0m\n"
      ]
     },
     "metadata": {},
     "output_type": "display_data"
    },
    {
     "data": {
      "text/html": [
       "<pre style=\"white-space:pre;overflow-x:auto;line-height:normal;font-family:Menlo,'DejaVu Sans Mono',consolas,'Courier New',monospace\"><span style=\"font-weight: bold\">[</span><span style=\"color: #008000; text-decoration-color: #008000\">' db2_servers '</span>, <span style=\"color: #008000; text-decoration-color: #008000\">' server5, server6'</span><span style=\"font-weight: bold\">]</span>\n",
       "</pre>\n"
      ],
      "text/plain": [
       "\u001b[1m[\u001b[0m\u001b[32m' db2_servers '\u001b[0m, \u001b[32m' server5, server6'\u001b[0m\u001b[1m]\u001b[0m\n"
      ]
     },
     "metadata": {},
     "output_type": "display_data"
    },
    {
     "data": {
      "text/html": [
       "<pre style=\"white-space:pre;overflow-x:auto;line-height:normal;font-family:Menlo,'DejaVu Sans Mono',consolas,'Courier New',monospace\">Output exported to Excel file\n",
       "</pre>\n"
      ],
      "text/plain": [
       "Output exported to Excel file\n"
      ]
     },
     "metadata": {},
     "output_type": "display_data"
    }
   ],
   "source": [
    "lista = Finder(\"Cmnd_Alias\")\n",
    "len(lista)\n",
    "#print(lista)\n",
    "print(\"Result of Cmnd_Alias is: \\t\")\n",
    "for arch in archivo:\n",
    "    print(arch)\n",
    "print(\"Output exported to Excel file\")"
   ]
  },
  {
   "cell_type": "code",
   "execution_count": 146,
   "metadata": {},
   "outputs": [
    {
     "data": {
      "text/plain": [
       "<module 'posixpath' from '/opt/homebrew/Cellar/python@3.10/3.10.6_1/Frameworks/Python.framework/Versions/3.10/lib/python3.10/posixpath.py'>"
      ]
     },
     "execution_count": 146,
     "metadata": {},
     "output_type": "execute_result"
    }
   ],
   "source": [
    "os.path"
   ]
  },
  {
   "cell_type": "code",
   "execution_count": 147,
   "metadata": {},
   "outputs": [
    {
     "data": {
      "text/plain": [
       "'osaeljm'"
      ]
     },
     "execution_count": 147,
     "metadata": {},
     "output_type": "execute_result"
    }
   ],
   "source": [
    "import getpass\n",
    "getpass.getuser()"
   ]
  },
  {
   "cell_type": "code",
   "execution_count": null,
   "metadata": {},
   "outputs": [],
   "source": [
    "\n"
   ]
  }
 ],
 "metadata": {
  "kernelspec": {
   "display_name": "Python 3.10.6 64-bit",
   "language": "python",
   "name": "python3"
  },
  "language_info": {
   "codemirror_mode": {
    "name": "ipython",
    "version": 3
   },
   "file_extension": ".py",
   "mimetype": "text/x-python",
   "name": "python",
   "nbconvert_exporter": "python",
   "pygments_lexer": "ipython3",
   "version": "3.10.6"
  },
  "orig_nbformat": 4,
  "vscode": {
   "interpreter": {
    "hash": "b0fa6594d8f4cbf19f97940f81e996739fb7646882a419484c72d19e05852a7e"
   }
  }
 },
 "nbformat": 4,
 "nbformat_minor": 2
}
